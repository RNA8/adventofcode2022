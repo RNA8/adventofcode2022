{
 "cells": [
  {
   "cell_type": "code",
   "execution_count": 1,
   "id": "c1a9c05f",
   "metadata": {},
   "outputs": [],
   "source": [
    "import aocd\n",
    "from aocd.models import Puzzle\n",
    "from aocd import submit\n",
    "import re\n",
    "import numpy as np\n",
    "from tqdm import tqdm"
   ]
  },
  {
   "cell_type": "code",
   "execution_count": 2,
   "id": "52d855ee",
   "metadata": {},
   "outputs": [
    {
     "data": {
      "text/plain": [
       "<Puzzle(2022, 15) at 0x7f117223b220 - Beacon Exclusion Zone>"
      ]
     },
     "execution_count": 2,
     "metadata": {},
     "output_type": "execute_result"
    }
   ],
   "source": [
    "current_day = 15\n",
    "current_year = 2022\n",
    "puzzle = Puzzle(year=current_year, day=current_day)\n",
    "puzzle"
   ]
  },
  {
   "cell_type": "markdown",
   "id": "7fb8ae44",
   "metadata": {},
   "source": [
    "## Part 1\n",
    "\n"
   ]
  },
  {
   "cell_type": "code",
   "execution_count": 3,
   "id": "08b61a9a",
   "metadata": {},
   "outputs": [],
   "source": [
    "test_input = '''Sensor at x=2, y=18: closest beacon is at x=-2, y=15\n",
    "Sensor at x=9, y=16: closest beacon is at x=10, y=16\n",
    "Sensor at x=13, y=2: closest beacon is at x=15, y=3\n",
    "Sensor at x=12, y=14: closest beacon is at x=10, y=16\n",
    "Sensor at x=10, y=20: closest beacon is at x=10, y=16\n",
    "Sensor at x=14, y=17: closest beacon is at x=10, y=16\n",
    "Sensor at x=8, y=7: closest beacon is at x=2, y=10\n",
    "Sensor at x=2, y=0: closest beacon is at x=2, y=10\n",
    "Sensor at x=0, y=11: closest beacon is at x=2, y=10\n",
    "Sensor at x=20, y=14: closest beacon is at x=25, y=17\n",
    "Sensor at x=17, y=20: closest beacon is at x=21, y=22\n",
    "Sensor at x=16, y=7: closest beacon is at x=15, y=3\n",
    "Sensor at x=14, y=3: closest beacon is at x=15, y=3\n",
    "Sensor at x=20, y=1: closest beacon is at x=15, y=3'''"
   ]
  },
  {
   "cell_type": "code",
   "execution_count": 4,
   "id": "b6a33819",
   "metadata": {},
   "outputs": [],
   "source": [
    "test = 0\n",
    "\n",
    "if test:\n",
    "    input_data = test_input\n",
    "    target_y = 10\n",
    "    min_coord = 0\n",
    "    max_coord = 20\n",
    "else:\n",
    "    input_data = puzzle.input_data\n",
    "    target_y = 2_000_000\n",
    "    min_coord = 0\n",
    "    max_coord = 4_000_000"
   ]
  },
  {
   "cell_type": "code",
   "execution_count": 5,
   "id": "948df0de",
   "metadata": {},
   "outputs": [
    {
     "name": "stdout",
     "output_type": "stream",
     "text": [
      "CPU times: user 233 ms, sys: 199 ms, total: 432 ms\n",
      "Wall time: 431 ms\n"
     ]
    },
    {
     "data": {
      "text/plain": [
       "6425133"
      ]
     },
     "execution_count": 5,
     "metadata": {},
     "output_type": "execute_result"
    }
   ],
   "source": [
    "%%time\n",
    "x_candidates = set()\n",
    "for line in input_data.splitlines():\n",
    "    sensor_x,sensor_y,beacon_x,beacon_y = list(map(int,re.findall(\"-?\\d+\", line)))\n",
    "    man_dist = abs(sensor_x-beacon_x) + abs(sensor_y-beacon_y)\n",
    "    man_dist_x = man_dist - abs(target_y-sensor_y)\n",
    "    if man_dist_x < 0:\n",
    "        continue\n",
    "    x_candidates.update(list(range(sensor_x - man_dist_x, sensor_x + man_dist_x + 1)))\n",
    "    if beacon_y == target_y:\n",
    "        x_candidates.difference_update([beacon_x])\n",
    "result = len(x_candidates)\n",
    "result"
   ]
  },
  {
   "cell_type": "code",
   "execution_count": 6,
   "id": "a60b0d6f",
   "metadata": {},
   "outputs": [
    {
     "data": {
      "text/plain": [
       "'6425133'"
      ]
     },
     "execution_count": 6,
     "metadata": {},
     "output_type": "execute_result"
    }
   ],
   "source": [
    "puzzle.answer_a = result\n",
    "puzzle.answer_a"
   ]
  },
  {
   "cell_type": "markdown",
   "id": "f3ef71ed",
   "metadata": {},
   "source": [
    "## Part 2\n",
    "\n"
   ]
  },
  {
   "cell_type": "code",
   "execution_count": 7,
   "id": "c85ab81c",
   "metadata": {},
   "outputs": [],
   "source": [
    "def union_ranges(ranges):\n",
    "    ranges = sorted(ranges)\n",
    "    # merge the ranges\n",
    "    low_x, high_x = ranges[0]\n",
    "    output_ranges = set()\n",
    "    for x1,x2 in ranges[1:]:\n",
    "        if x1 <= high_x:\n",
    "            high_x = max(high_x, x2)\n",
    "        else:\n",
    "            output_ranges.add((low_x, high_x))\n",
    "            low_x, high_x = x1, x2\n",
    "\n",
    "    output_ranges.add((low_x, high_x))\n",
    "    output_ranges = sorted(list(output_ranges))\n",
    "    \n",
    "    return output_ranges"
   ]
  },
  {
   "cell_type": "code",
   "execution_count": 8,
   "id": "2aa76117",
   "metadata": {},
   "outputs": [
    {
     "name": "stderr",
     "output_type": "stream",
     "text": [
      " 86%|████████▌ | 3429555/4000001 [01:06<00:11, 51786.68it/s]"
     ]
    },
    {
     "name": "stdout",
     "output_type": "stream",
     "text": [
      "10996191429555\n"
     ]
    },
    {
     "name": "stderr",
     "output_type": "stream",
     "text": [
      "\n"
     ]
    }
   ],
   "source": [
    "data = np.array([list(map(int,re.findall(\"-?\\d+\", line))) for line in input_data.splitlines()])\n",
    "data = np.hstack((data, (np.abs(data[:,0] - data[:,2]) + np.abs(data[:,1] - data[:,3])).reshape((-1,1))))\n",
    "\n",
    "for y in tqdm(range(0,max_coord+1)):\n",
    "    man_dist_remaining = data[:,4] - np.abs(data[:,1] - y)\n",
    "    flag = man_dist_remaining>=0\n",
    "    ranges = np.vstack((data[flag,0] - man_dist_remaining[flag], data[flag,0] + man_dist_remaining[flag])).transpose()\n",
    "    ranges = np.minimum(np.maximum(ranges,[min_coord,min_coord]),[max_coord,max_coord])\n",
    "    ranges = [list(row) for row in ranges]\n",
    "    output_ranges = union_ranges(ranges)\n",
    "    if len(output_ranges) == 1: # and output_ranges[0][0] <= min_coord and output_ranges[0][1] >= max_coord:\n",
    "        continue\n",
    "    assert len(output_ranges) == 2\n",
    "    x1, x2 = output_ranges[0]\n",
    "    x3, x4 = output_ranges[1]\n",
    "    assert x3 - x2 == 2 # only one item between the two ranges\n",
    "    possible_distress_beacon = x2 + 1, y\n",
    "    result = 4000000 * possible_distress_beacon[0] + possible_distress_beacon[1]\n",
    "    print(result)\n",
    "    break"
   ]
  },
  {
   "cell_type": "code",
   "execution_count": 9,
   "id": "e15a94c8",
   "metadata": {},
   "outputs": [
    {
     "name": "stdout",
     "output_type": "stream",
     "text": [
      "(2749047, 3429555)\n"
     ]
    }
   ],
   "source": [
    "print(possible_distress_beacon)"
   ]
  },
  {
   "cell_type": "code",
   "execution_count": 10,
   "id": "4c6b7c13",
   "metadata": {},
   "outputs": [
    {
     "name": "stdout",
     "output_type": "stream",
     "text": [
      "Part b already solved with same answer: 10996191429555\n"
     ]
    },
    {
     "data": {
      "text/plain": [
       "'10996191429555'"
      ]
     },
     "execution_count": 10,
     "metadata": {},
     "output_type": "execute_result"
    }
   ],
   "source": [
    "puzzle.answer_b = result\n",
    "puzzle.answer_b"
   ]
  },
  {
   "cell_type": "code",
   "execution_count": null,
   "id": "fdc23772",
   "metadata": {},
   "outputs": [],
   "source": []
  }
 ],
 "metadata": {
  "kernelspec": {
   "display_name": "adventofcode",
   "language": "python",
   "name": "adventofcode"
  },
  "language_info": {
   "codemirror_mode": {
    "name": "ipython",
    "version": 3
   },
   "file_extension": ".py",
   "mimetype": "text/x-python",
   "name": "python",
   "nbconvert_exporter": "python",
   "pygments_lexer": "ipython3",
   "version": "3.8.11"
  }
 },
 "nbformat": 4,
 "nbformat_minor": 5
}
