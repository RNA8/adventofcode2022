{
 "cells": [
  {
   "cell_type": "code",
   "execution_count": 1,
   "id": "c1a9c05f",
   "metadata": {},
   "outputs": [],
   "source": [
    "import os\n",
    "import numpy as np\n",
    "import itertools\n",
    "\n",
    "import aocd\n",
    "from aocd.models import Puzzle\n",
    "from aocd import submit\n",
    "\n",
    "import re"
   ]
  },
  {
   "cell_type": "code",
   "execution_count": 2,
   "id": "52d855ee",
   "metadata": {},
   "outputs": [
    {
     "data": {
      "text/plain": [
       "<Puzzle(2022, 7) at 0x7fa68b4410a0 - No Space Left On Device>"
      ]
     },
     "execution_count": 2,
     "metadata": {},
     "output_type": "execute_result"
    }
   ],
   "source": [
    "current_day = 7\n",
    "current_year = 2022\n",
    "puzzle = Puzzle(year=current_year, day=current_day)\n",
    "puzzle"
   ]
  },
  {
   "cell_type": "code",
   "execution_count": 3,
   "id": "40967c76",
   "metadata": {},
   "outputs": [],
   "source": [
    "data = puzzle.input_data.split('\\n$ ')[1:]"
   ]
  },
  {
   "cell_type": "markdown",
   "id": "7fb8ae44",
   "metadata": {},
   "source": [
    "## Part 1\n",
    "\n"
   ]
  },
  {
   "cell_type": "code",
   "execution_count": 4,
   "id": "c1b43c29",
   "metadata": {},
   "outputs": [],
   "source": [
    "path = ['']\n",
    "from collections import defaultdict\n",
    "path_sizes = defaultdict(int)\n",
    "for line in data:\n",
    "    if line.startswith('cd'):\n",
    "        to_path = line.replace('cd ','')\n",
    "        if to_path == '..':\n",
    "            path.pop()\n",
    "        else:\n",
    "            path.append(to_path)\n",
    "    elif line.startswith('ls'):\n",
    "        path_sizes['/'.join(path)] += sum(int(sub_line.split()[0])\n",
    "                                       for sub_line in line.splitlines()[1:] \n",
    "                                       if not sub_line.startswith('dir'))"
   ]
  },
  {
   "cell_type": "code",
   "execution_count": 5,
   "id": "d5498eb8",
   "metadata": {},
   "outputs": [],
   "source": [
    "for child in sorted(path_sizes.keys(), \n",
    "                    key = lambda x:-len(x)):\n",
    "    if child == '':\n",
    "        continue\n",
    "    parent = '/'.join(child.split('/')[:-1])\n",
    "    path_sizes[parent] += path_sizes[child]\n"
   ]
  },
  {
   "cell_type": "code",
   "execution_count": 6,
   "id": "6cda6375",
   "metadata": {},
   "outputs": [
    {
     "data": {
      "text/plain": [
       "defaultdict(int,\n",
       "            {'': 48748071,\n",
       "             '/cgw': 1994012,\n",
       "             '/cgw/jpmf': 1599361,\n",
       "             '/cgw/jpmf/ncfcchsz': 205103,\n",
       "             '/cgw/jpmf/rfb': 331667,\n",
       "             '/cgw/jpmf/tjtccqtm': 1062591,\n",
       "             '/cgw/jpmf/tjtccqtm/jvbb': 255580,\n",
       "             '/cgw/jpmf/tjtccqtm/jvbb/fbhz': 255580,\n",
       "             '/cgw/jpmf/tjtccqtm/jvbb/fbhz/wjj': 255580,\n",
       "             '/cgw/jpmf/tjtccqtm/zgpb': 258152,\n",
       "             '/cgw/rfb': 25370,\n",
       "             '/cgw/tjtccqtm': 369281,\n",
       "             '/fbhz': 31535668,\n",
       "             '/fbhz/fbhz': 590784,\n",
       "             '/fbhz/llfdghs': 4104794,\n",
       "             '/fbhz/llfdghs/hsz': 1276071,\n",
       "             '/fbhz/llfdghs/hsz/fbhz': 163444,\n",
       "             '/fbhz/llfdghs/hsz/qsvh': 572232,\n",
       "             '/fbhz/llfdghs/hsz/qsvh/tjtccqtm': 311932,\n",
       "             '/fbhz/llfdghs/mlvl': 55902,\n",
       "             '/fbhz/llfdghs/tvtqs': 1995696,\n",
       "             '/fbhz/llfdghs/tvtqs/fbhz': 373263,\n",
       "             '/fbhz/llfdghs/tvtqs/hgr': 360282,\n",
       "             '/fbhz/llfdghs/tvtqs/hgr/tjtccqtm': 360282,\n",
       "             '/fbhz/llfdghs/tvtqs/njvsjmmj': 270925,\n",
       "             '/fbhz/llfdghs/tvtqs/njvsjmmj/gbrjnrh': 270925,\n",
       "             '/fbhz/llfdghs/tvtqs/tjtccqtm': 421038,\n",
       "             '/fbhz/llfdghs/tvtqs/tjtccqtm/nlqt': 49935,\n",
       "             '/fbhz/llfdghs/tvtqs/tjtccqtm/tjtccqtm': 178987,\n",
       "             '/fbhz/llfdghs/tvtqs/vgj': 213820,\n",
       "             '/fbhz/ncfcchsz': 808124,\n",
       "             '/fbhz/ncfcchsz/tjtccqtm': 334824,\n",
       "             '/fbhz/tbnq': 4696470,\n",
       "             '/fbhz/tbnq/jvbb': 994481,\n",
       "             '/fbhz/tbnq/jvbb/wshhs': 906056,\n",
       "             '/fbhz/tbnq/jvbb/wshhs/bpcv': 413023,\n",
       "             '/fbhz/tbnq/jvbb/ztrb': 88425,\n",
       "             '/fbhz/tbnq/nzl': 2968765,\n",
       "             '/fbhz/tbnq/nzl/fbhz': 317958,\n",
       "             '/fbhz/tbnq/nzl/jzvvr': 2090358,\n",
       "             '/fbhz/tbnq/nzl/jzvvr/srgrvcm': 1455681,\n",
       "             '/fbhz/tbnq/nzl/jzvvr/srgrvcm/cfwmvbjq': 91385,\n",
       "             '/fbhz/tbnq/nzl/jzvvr/srgrvcm/dqwwtrr': 566689,\n",
       "             '/fbhz/tbnq/nzl/jzvvr/srgrvcm/tjtccqtm': 334582,\n",
       "             '/fbhz/tbnq/nzl/mghww': 48114,\n",
       "             '/fbhz/tbnq/nzl/tnfg': 172920,\n",
       "             '/fbhz/zhj': 20632494,\n",
       "             '/fbhz/zhj/dqzgfcd': 17114523,\n",
       "             '/fbhz/zhj/dqzgfcd/ppmbn': 6037,\n",
       "             '/fbhz/zhj/dqzgfcd/rfb': 1127198,\n",
       "             '/fbhz/zhj/dqzgfcd/rfb/wdm': 213994,\n",
       "             '/fbhz/zhj/dqzgfcd/srlvzvr': 1248861,\n",
       "             '/fbhz/zhj/dqzgfcd/srlvzvr/dlp': 974738,\n",
       "             '/fbhz/zhj/dqzgfcd/srlvzvr/dlp/rfpgt': 974738,\n",
       "             '/fbhz/zhj/dqzgfcd/vtdvdgdv': 704354,\n",
       "             '/fbhz/zhj/dqzgfcd/vtdvdgdv/rfb': 435347,\n",
       "             '/fbhz/zhj/dqzgfcd/vtdvdgdv/tjtccqtm': 269007,\n",
       "             '/fbhz/zhj/dqzgfcd/vwhnlp': 9847279,\n",
       "             '/fbhz/zhj/dqzgfcd/vwhnlp/fbhz': 6886041,\n",
       "             '/fbhz/zhj/dqzgfcd/vwhnlp/fbhz/dstmnnd': 521877,\n",
       "             '/fbhz/zhj/dqzgfcd/vwhnlp/fbhz/dstmnnd/jvbb': 187235,\n",
       "             '/fbhz/zhj/dqzgfcd/vwhnlp/fbhz/jvbb': 2622844,\n",
       "             '/fbhz/zhj/dqzgfcd/vwhnlp/fbhz/jvbb/dcszm': 178161,\n",
       "             '/fbhz/zhj/dqzgfcd/vwhnlp/fbhz/jvbb/mvcfwwlm': 284005,\n",
       "             '/fbhz/zhj/dqzgfcd/vwhnlp/fbhz/jvbb/rfb': 1483424,\n",
       "             '/fbhz/zhj/dqzgfcd/vwhnlp/fbhz/jvbb/rfb/jvbb': 611629,\n",
       "             '/fbhz/zhj/dqzgfcd/vwhnlp/fbhz/jvbb/rfb/ncfcchsz': 133380,\n",
       "             '/fbhz/zhj/dqzgfcd/vwhnlp/fbhz/jvbb/rfb/rhmmtvv': 270217,\n",
       "             '/fbhz/zhj/dqzgfcd/vwhnlp/fbhz/ncfcchsz': 999864,\n",
       "             '/fbhz/zhj/dqzgfcd/vwhnlp/fbhz/ncfcchsz/bzpz': 541769,\n",
       "             '/fbhz/zhj/dqzgfcd/vwhnlp/fbhz/ncfcchsz/fmhdlm': 346858,\n",
       "             '/fbhz/zhj/dqzgfcd/vwhnlp/fbhz/ncfcchsz/wqctddqc': 111237,\n",
       "             '/fbhz/zhj/dqzgfcd/vwhnlp/fbhz/ncfcchsz/wqctddqc/ncfcchsz': 111237,\n",
       "             '/fbhz/zhj/dqzgfcd/vwhnlp/fbhz/wdpqfl': 2519282,\n",
       "             '/fbhz/zhj/dqzgfcd/vwhnlp/fbhz/wdpqfl/fmrclsn': 907619,\n",
       "             '/fbhz/zhj/dqzgfcd/vwhnlp/fbhz/wdpqfl/mwwmbpgr': 350418,\n",
       "             '/fbhz/zhj/dqzgfcd/vwhnlp/fbhz/wdpqfl/mwwmbpgr/jvbb': 44631,\n",
       "             '/fbhz/zhj/dqzgfcd/vwhnlp/fbhz/wdpqfl/mwwmbpgr/rqfqbw': 305787,\n",
       "             '/fbhz/zhj/dqzgfcd/vwhnlp/fbhz/wdpqfl/mwwmbpgr/rqfqbw/cqpwhrtp': 305787,\n",
       "             '/fbhz/zhj/dqzgfcd/vwhnlp/fbhz/wdpqfl/nsf': 281439,\n",
       "             '/fbhz/zhj/dqzgfcd/vwhnlp/fbhz/wdpqfl/tfpqqjw': 383565,\n",
       "             '/fbhz/zhj/dqzgfcd/vwhnlp/rfb': 980087,\n",
       "             '/fbhz/zhj/dqzgfcd/vwhnlp/rfb/tgcr': 198742,\n",
       "             '/fbhz/zhj/dqzgfcd/vwhnlp/tjtccqtm': 1765289,\n",
       "             '/fbhz/zhj/dqzgfcd/vwhnlp/tjtccqtm/vnwpw': 1765289,\n",
       "             '/fbhz/zhj/dqzgfcd/vwhnlp/tjtccqtm/vnwpw/rfb': 89621,\n",
       "             '/fbhz/zhj/dqzgfcd/vwhnlp/tjtccqtm/vnwpw/tjhvvl': 894185,\n",
       "             '/fbhz/zhj/dqzgfcd/vwhnlp/tjtccqtm/vnwpw/tjhvvl/fbhz': 213519,\n",
       "             '/fbhz/zhj/dqzgfcd/wsmvrf': 3304776,\n",
       "             '/fbhz/zhj/dqzgfcd/wsmvrf/ccbw': 1070281,\n",
       "             '/fbhz/zhj/dqzgfcd/wsmvrf/ccbw/crjsgdv': 420908,\n",
       "             '/fbhz/zhj/dqzgfcd/wsmvrf/ccbw/crjsgdv/jgstsj': 251288,\n",
       "             '/fbhz/zhj/dqzgfcd/wsmvrf/ccbw/dthrqpvv': 234510,\n",
       "             '/fbhz/zhj/dqzgfcd/wsmvrf/ccbw/ncfcchsz': 177247,\n",
       "             '/fbhz/zhj/dqzgfcd/wsmvrf/ccbw/ppqhd': 41613,\n",
       "             '/fbhz/zhj/dqzgfcd/wsmvrf/ccbw/tjtccqtm': 71907,\n",
       "             '/fbhz/zhj/dqzgfcd/wsmvrf/ccbw/ztsmqn': 124096,\n",
       "             '/fbhz/zhj/dqzgfcd/wsmvrf/nqjpdlc': 478466,\n",
       "             '/fbhz/zhj/dqzgfcd/wsmvrf/nqjpdlc/jvbb': 266605,\n",
       "             '/fbhz/zhj/dqzgfcd/wsmvrf/nqjpdlc/ltwl': 68291,\n",
       "             '/fbhz/zhj/dqzgfcd/wsmvrf/nqjpdlc/ltwl/lrgjbbn': 68291,\n",
       "             '/fbhz/zhj/dqzgfcd/wsmvrf/sjgjgwb': 1104456,\n",
       "             '/fbhz/zhj/dqzgfcd/wsmvrf/sjgjgwb/ghqtfhcz': 252002,\n",
       "             '/fbhz/zhj/dqzgfcd/wsmvrf/sjgjgwb/ghqtfhcz/gtlfvjpg': 252002,\n",
       "             '/fbhz/zhj/dqzgfcd/wsmvrf/sjgjgwb/ghqtfhcz/gtlfvjpg/vwz': 252002,\n",
       "             '/fbhz/zhj/dqzgfcd/wsmvrf/sjgjgwb/jwzmtqff': 571330,\n",
       "             '/fbhz/zhj/dqzgfcd/wsmvrf/zprqg': 398566,\n",
       "             '/fbhz/zhj/jvbb': 2958221,\n",
       "             '/fbhz/zhj/jvbb/bnllsz': 216397,\n",
       "             '/fbhz/zhj/jvbb/cqdr': 354586,\n",
       "             '/fbhz/zhj/jvbb/jwn': 799961,\n",
       "             '/fbhz/zhj/jvbb/lrh': 139676,\n",
       "             '/fbhz/zhj/jvbb/nfbhj': 49779,\n",
       "             '/fbhz/zhj/jvbb/nnflrw': 135683,\n",
       "             '/fbhz/zhj/jvbb/rfb': 65765,\n",
       "             '/fbhz/zhj/ncnhjjs': 559750,\n",
       "             '/fbhz/zhj/ncnhjjs/jvbb': 9420,\n",
       "             '/lvrzvt': 1447647,\n",
       "             '/lvrzvt/qzddwnm': 214814,\n",
       "             '/lvrzvt/zzwqlz': 477934,\n",
       "             '/vwlps': 13546432,\n",
       "             '/vwlps/fbhz': 739,\n",
       "             '/vwlps/fbhz/fbhz': 739,\n",
       "             '/vwlps/fbhz/fbhz/mnnzbnl': 624,\n",
       "             '/vwlps/jvbb': 234261,\n",
       "             '/vwlps/rfb': 12306522,\n",
       "             '/vwlps/rfb/ddcjgrdb': 949633,\n",
       "             '/vwlps/rfb/ddcjgrdb/jvbb': 348073,\n",
       "             '/vwlps/rfb/ddcjgrdb/rfb': 601560,\n",
       "             '/vwlps/rfb/ddcjgrdb/rfb/tjtccqtm': 482447,\n",
       "             '/vwlps/rfb/lwjvv': 2074666,\n",
       "             '/vwlps/rfb/lwjvv/hhjlvjds': 1039532,\n",
       "             '/vwlps/rfb/lwjvv/hhjlvjds/zmzj': 28824,\n",
       "             '/vwlps/rfb/lwjvv/tvqng': 136988,\n",
       "             '/vwlps/rfb/lwjvv/zcn': 239586,\n",
       "             '/vwlps/rfb/lwjvv/zcn/czczrddv': 239586,\n",
       "             '/vwlps/rfb/mtzbmlnp': 8400725,\n",
       "             '/vwlps/rfb/mtzbmlnp/fbhz': 302746,\n",
       "             '/vwlps/rfb/mtzbmlnp/fbhz/lhtc': 100051,\n",
       "             '/vwlps/rfb/mtzbmlnp/fbhz/tjtccqtm': 193182,\n",
       "             '/vwlps/rfb/mtzbmlnp/jvbb': 7020257,\n",
       "             '/vwlps/rfb/mtzbmlnp/jvbb/rfb': 2569631,\n",
       "             '/vwlps/rfb/mtzbmlnp/jvbb/rfb/fgctrfr': 1501732,\n",
       "             '/vwlps/rfb/mtzbmlnp/jvbb/rfb/fgctrfr/dqjrndw': 295822,\n",
       "             '/vwlps/rfb/mtzbmlnp/jvbb/rfb/fgctrfr/rbbw': 168370,\n",
       "             '/vwlps/rfb/mtzbmlnp/jvbb/rfb/fgctrfr/rbbw/hrwj': 168370,\n",
       "             '/vwlps/rfb/mtzbmlnp/jvbb/rfb/fgctrfr/rbbw/hrwj/zlhhnwrv': 168370,\n",
       "             '/vwlps/rfb/mtzbmlnp/jvbb/rfb/fgctrfr/zgrrdb': 84053,\n",
       "             '/vwlps/rfb/mtzbmlnp/jvbb/rfb/tjtccqtm': 297111,\n",
       "             '/vwlps/rfb/mtzbmlnp/jvbb/tjtccqtm': 4022810,\n",
       "             '/vwlps/rfb/mtzbmlnp/jvbb/tjtccqtm/jfmc': 2941860,\n",
       "             '/vwlps/rfb/mtzbmlnp/jvbb/tjtccqtm/jfmc/fbhz': 366916,\n",
       "             '/vwlps/rfb/mtzbmlnp/jvbb/tjtccqtm/jfmc/fbhz/rfb': 304548,\n",
       "             '/vwlps/rfb/mtzbmlnp/jvbb/tjtccqtm/jfmc/fbhz/tqmtbvb': 62368,\n",
       "             '/vwlps/rfb/mtzbmlnp/jvbb/tjtccqtm/jfmc/fjqnrb': 456257,\n",
       "             '/vwlps/rfb/mtzbmlnp/jvbb/tjtccqtm/jfmc/fjqnrb/qdrmjmds': 175406,\n",
       "             '/vwlps/rfb/mtzbmlnp/jvbb/tjtccqtm/jfmc/fjqnrb/qdrmjmds/qscgv': 173814,\n",
       "             '/vwlps/rfb/mtzbmlnp/jvbb/tjtccqtm/jfmc/fjqnrb/qdrmjmds/rfb': 1592,\n",
       "             '/vwlps/rfb/mtzbmlnp/jvbb/tjtccqtm/jfmc/fjqnrb/rfb': 237598,\n",
       "             '/vwlps/rfb/mtzbmlnp/jvbb/tjtccqtm/jfmc/fjqnrb/sdtdrmz': 43253,\n",
       "             '/vwlps/rfb/mtzbmlnp/jvbb/tjtccqtm/jfmc/mpc': 175855,\n",
       "             '/vwlps/rfb/mtzbmlnp/jvbb/tjtccqtm/jfmc/mpc/bdsnl': 175855,\n",
       "             '/vwlps/rfb/mtzbmlnp/jvbb/tjtccqtm/jfmc/ncfcchsz': 1803065,\n",
       "             '/vwlps/rfb/mtzbmlnp/jvbb/tjtccqtm/jfmc/ncfcchsz/ctqnwzgn': 211637,\n",
       "             '/vwlps/rfb/mtzbmlnp/jvbb/tjtccqtm/jfmc/ncfcchsz/dddjjbrs': 768935,\n",
       "             '/vwlps/rfb/mtzbmlnp/jvbb/tjtccqtm/jfmc/ncfcchsz/dddjjbrs/lqpsr': 314159,\n",
       "             '/vwlps/rfb/mtzbmlnp/jvbb/tjtccqtm/jfmc/ncfcchsz/nbnn': 218457,\n",
       "             '/vwlps/rfb/mtzbmlnp/jvbb/tjtccqtm/jfmc/ncfcchsz/tjtccqtm': 604036,\n",
       "             '/vwlps/rfb/mtzbmlnp/jvbb/tjtccqtm/jfmc/ncfcchsz/tjtccqtm/rfb': 240479,\n",
       "             '/vwlps/rfb/mtzbmlnp/jvbb/tjtccqtm/jfmc/ncfcchsz/tjtccqtm/vqsjdd': 253970,\n",
       "             '/vwlps/rfb/mtzbmlnp/jvbb/tjtccqtm/qwrd': 739172,\n",
       "             '/vwlps/rfb/mtzbmlnp/jvbb/tjtccqtm/qwrd/dgf': 739172,\n",
       "             '/vwlps/rfb/mtzbmlnp/jvbb/tjtccqtm/qwrd/dgf/tjtccqtm': 245596,\n",
       "             '/vwlps/rfb/mtzbmlnp/jvbb/tjtccqtm/qwrd/dgf/tjtccqtm/msgtcp': 245596,\n",
       "             '/vwlps/rfb/mtzbmlnp/jvbb/tjtccqtm/qwrd/dgf/ttqnbdjn': 153339,\n",
       "             '/vwlps/rfb/mtzbmlnp/jvbb/tjtccqtm/qwrd/dgf/ttqnbdjn/gvll': 153339,\n",
       "             '/vwlps/rfb/mtzbmlnp/jvbb/tjtccqtm/qwrd/dgf/ttqnbdjn/gvll/bhhzh': 153339,\n",
       "             '/vwlps/rfb/mtzbmlnp/jvbb/tjtccqtm/tjtccqtm': 341778,\n",
       "             '/vwlps/rfb/mtzbmlnp/jvbb/tjtccqtm/tjtccqtm/nzbzjpnl': 341778,\n",
       "             '/vwlps/rfb/mtzbmlnp/nhfsqbb': 161184,\n",
       "             '/vwlps/rfb/mtzbmlnp/sjmm': 499892,\n",
       "             '/vwlps/rfb/mtzbmlnp/sjmm/qrpr': 51657,\n",
       "             '/vwlps/rfb/mtzbmlnp/sjmm/rfb': 185213,\n",
       "             '/vwlps/rfb/mtzbmlnp/ttsjtcc': 185477,\n",
       "             '/vwlps/rfb/mtzbmlnp/ttsjtcc/fbhz': 112216,\n",
       "             '/vwlps/rfb/mtzbmlnp/ttsjtcc/tjbnz': 73261,\n",
       "             '/vwlps/rfb/nsq': 93689,\n",
       "             '/vwlps/tjtccqtm': 232421})"
      ]
     },
     "execution_count": 6,
     "metadata": {},
     "output_type": "execute_result"
    }
   ],
   "source": [
    "path_sizes"
   ]
  },
  {
   "cell_type": "code",
   "execution_count": 7,
   "id": "bf3c0ddf",
   "metadata": {},
   "outputs": [
    {
     "data": {
      "text/plain": [
       "1315285"
      ]
     },
     "execution_count": 7,
     "metadata": {},
     "output_type": "execute_result"
    }
   ],
   "source": [
    "max_target = 100000\n",
    "result = sum(val for val in path_sizes.values() if val <= max_target)\n",
    "result"
   ]
  },
  {
   "cell_type": "code",
   "execution_count": 8,
   "id": "a60b0d6f",
   "metadata": {},
   "outputs": [
    {
     "data": {
      "text/plain": [
       "'1315285'"
      ]
     },
     "execution_count": 8,
     "metadata": {},
     "output_type": "execute_result"
    }
   ],
   "source": [
    "puzzle.answer_a = result\n",
    "puzzle.answer_a"
   ]
  },
  {
   "cell_type": "markdown",
   "id": "f3ef71ed",
   "metadata": {},
   "source": [
    "## Part 2\n",
    "\n"
   ]
  },
  {
   "cell_type": "code",
   "execution_count": 9,
   "id": "eac9b5d3",
   "metadata": {},
   "outputs": [
    {
     "data": {
      "text/plain": [
       "8748071"
      ]
     },
     "execution_count": 9,
     "metadata": {},
     "output_type": "execute_result"
    }
   ],
   "source": [
    "filesystem_size = 70000000\n",
    "reqd_size = 30000000\n",
    "\n",
    "available_space = filesystem_size - path_sizes['']\n",
    "need_to_free = reqd_size - available_space\n",
    "need_to_free"
   ]
  },
  {
   "cell_type": "code",
   "execution_count": 10,
   "id": "4274a1a7",
   "metadata": {},
   "outputs": [
    {
     "data": {
      "text/plain": [
       "'/fbhz/zhj/dqzgfcd/vwhnlp'"
      ]
     },
     "execution_count": 10,
     "metadata": {},
     "output_type": "execute_result"
    }
   ],
   "source": [
    "MAX_VALUE = 2*filesystem_size\n",
    "candidates = {key:MAX_VALUE if val < need_to_free else val - need_to_free\n",
    "              for key, val in path_sizes.items()}\n",
    "best_folder_to_delete = min(candidates, key=candidates.get)\n",
    "best_folder_to_delete"
   ]
  },
  {
   "cell_type": "code",
   "execution_count": 11,
   "id": "4c6b7c13",
   "metadata": {},
   "outputs": [
    {
     "data": {
      "text/plain": [
       "'9847279'"
      ]
     },
     "execution_count": 11,
     "metadata": {},
     "output_type": "execute_result"
    }
   ],
   "source": [
    "puzzle.answer_b = path_sizes[best_folder_to_delete]\n",
    "puzzle.answer_b"
   ]
  },
  {
   "cell_type": "code",
   "execution_count": null,
   "id": "9b2ca207",
   "metadata": {},
   "outputs": [],
   "source": []
  }
 ],
 "metadata": {
  "kernelspec": {
   "display_name": "adventofcode",
   "language": "python",
   "name": "adventofcode"
  },
  "language_info": {
   "codemirror_mode": {
    "name": "ipython",
    "version": 3
   },
   "file_extension": ".py",
   "mimetype": "text/x-python",
   "name": "python",
   "nbconvert_exporter": "python",
   "pygments_lexer": "ipython3",
   "version": "3.8.11"
  }
 },
 "nbformat": 4,
 "nbformat_minor": 5
}
