{
 "cells": [
  {
   "cell_type": "code",
   "execution_count": 1,
   "id": "c1a9c05f",
   "metadata": {},
   "outputs": [],
   "source": [
    "import aocd\n",
    "from aocd.models import Puzzle\n",
    "from aocd import submit"
   ]
  },
  {
   "cell_type": "code",
   "execution_count": 2,
   "id": "52d855ee",
   "metadata": {},
   "outputs": [
    {
     "data": {
      "text/plain": [
       "<Puzzle(2022, 13) at 0x7f83e67b7c40 - Distress Signal>"
      ]
     },
     "execution_count": 2,
     "metadata": {},
     "output_type": "execute_result"
    }
   ],
   "source": [
    "current_day = 13\n",
    "current_year = 2022\n",
    "puzzle = Puzzle(year=current_year, day=current_day)\n",
    "puzzle"
   ]
  },
  {
   "cell_type": "markdown",
   "id": "7fb8ae44",
   "metadata": {},
   "source": [
    "## Part 1\n",
    "\n"
   ]
  },
  {
   "cell_type": "code",
   "execution_count": 3,
   "id": "adb95279",
   "metadata": {},
   "outputs": [],
   "source": [
    "def compare(left, right):\n",
    "    for a, b in zip(left, right):\n",
    "        if isinstance(a,int) and isinstance(b,int): # both integers\n",
    "            if a < b:\n",
    "                return 1\n",
    "            elif a > b:\n",
    "                return -1\n",
    "        elif isinstance(a,list) and isinstance(b,int):\n",
    "            res = compare(a,[b])\n",
    "            if res:\n",
    "                return res\n",
    "        elif isinstance(a,int) and isinstance(b,list):\n",
    "            res = compare([a],b)\n",
    "            if res:\n",
    "                return res\n",
    "        else:\n",
    "            res = compare(a,b)\n",
    "            if res:\n",
    "                return res\n",
    "        \n",
    "    if len(left) < len(right):\n",
    "        return 1\n",
    "    elif len(left) > len(right):\n",
    "        return -1\n",
    "    \n",
    "    return 0"
   ]
  },
  {
   "cell_type": "code",
   "execution_count": 4,
   "id": "221fe02b",
   "metadata": {},
   "outputs": [],
   "source": [
    "test_input = '''[1,1,3,1,1]\n",
    "[1,1,5,1,1]\n",
    "\n",
    "[[1],[2,3,4]]\n",
    "[[1],4]\n",
    "\n",
    "[9]\n",
    "[[8,7,6]]\n",
    "\n",
    "[[4,4],4,4]\n",
    "[[4,4],4,4,4]\n",
    "\n",
    "[7,7,7,7]\n",
    "[7,7,7]\n",
    "\n",
    "[]\n",
    "[3]\n",
    "\n",
    "[[[]]]\n",
    "[[]]\n",
    "\n",
    "[1,[2,[3,[4,[5,6,7]]]],8,9]\n",
    "[1,[2,[3,[4,[5,6,0]]]],8,9]'''"
   ]
  },
  {
   "cell_type": "code",
   "execution_count": 5,
   "id": "9513dfd6",
   "metadata": {},
   "outputs": [
    {
     "name": "stdout",
     "output_type": "stream",
     "text": [
      "result = 13\n"
     ]
    }
   ],
   "source": [
    "result = 0\n",
    "for cntr, line in enumerate(test_input.split('\\n\\n'), start=1):\n",
    "    a, b = map(eval,line.splitlines())\n",
    "    if compare(a,b) == 1:\n",
    "        result += cntr\n",
    "print(f\"{result = }\")"
   ]
  },
  {
   "cell_type": "code",
   "execution_count": 6,
   "id": "9832e33a",
   "metadata": {},
   "outputs": [
    {
     "name": "stdout",
     "output_type": "stream",
     "text": [
      "result = 5503\n"
     ]
    }
   ],
   "source": [
    "result = 0\n",
    "for cntr, line in enumerate(puzzle.input_data.split('\\n\\n'), start=1):\n",
    "    a, b = map(eval,line.splitlines())\n",
    "    if compare(a,b) == 1:\n",
    "        result += cntr\n",
    "print(f\"{result = }\")"
   ]
  },
  {
   "cell_type": "code",
   "execution_count": 7,
   "id": "a60b0d6f",
   "metadata": {},
   "outputs": [
    {
     "data": {
      "text/plain": [
       "'5503'"
      ]
     },
     "execution_count": 7,
     "metadata": {},
     "output_type": "execute_result"
    }
   ],
   "source": [
    "puzzle.answer_a = result\n",
    "puzzle.answer_a"
   ]
  },
  {
   "cell_type": "markdown",
   "id": "f3ef71ed",
   "metadata": {},
   "source": [
    "## Part 2\n",
    "\n"
   ]
  },
  {
   "cell_type": "code",
   "execution_count": 8,
   "id": "fc72baa3",
   "metadata": {},
   "outputs": [],
   "source": [
    "test_items = list(map(eval,test_input.replace('\\n\\n','\\n').splitlines())) + [[[2]],[[6]]]\n",
    "items = list(map(eval,puzzle.input_data.replace('\\n\\n','\\n').splitlines())) + [[[2]],[[6]]]"
   ]
  },
  {
   "cell_type": "code",
   "execution_count": 9,
   "id": "dc7716c4",
   "metadata": {},
   "outputs": [],
   "source": [
    "import functools\n",
    "sorted_test_items = sorted(test_items,\n",
    "                           key=functools.cmp_to_key(compare),\n",
    "                           reverse=True)\n",
    "sorted_items = sorted(items,\n",
    "                      key=functools.cmp_to_key(compare),\n",
    "                      reverse=True)"
   ]
  },
  {
   "cell_type": "code",
   "execution_count": 10,
   "id": "021004e7",
   "metadata": {},
   "outputs": [
    {
     "data": {
      "text/plain": [
       "140"
      ]
     },
     "execution_count": 10,
     "metadata": {},
     "output_type": "execute_result"
    }
   ],
   "source": [
    "test_result = (sorted_test_items.index([[2]])+1) * (sorted_test_items.index([[6]])+1)\n",
    "test_result"
   ]
  },
  {
   "cell_type": "code",
   "execution_count": 11,
   "id": "c17a0048",
   "metadata": {},
   "outputs": [
    {
     "data": {
      "text/plain": [
       "20952"
      ]
     },
     "execution_count": 11,
     "metadata": {},
     "output_type": "execute_result"
    }
   ],
   "source": [
    "result = (sorted_items.index([[2]])+1) * (sorted_items.index([[6]])+1)\n",
    "result"
   ]
  },
  {
   "cell_type": "code",
   "execution_count": 12,
   "id": "4c6b7c13",
   "metadata": {},
   "outputs": [
    {
     "data": {
      "text/plain": [
       "'20952'"
      ]
     },
     "execution_count": 12,
     "metadata": {},
     "output_type": "execute_result"
    }
   ],
   "source": [
    "puzzle.answer_b = result\n",
    "puzzle.answer_b"
   ]
  },
  {
   "cell_type": "code",
   "execution_count": null,
   "id": "fdc23772",
   "metadata": {},
   "outputs": [],
   "source": []
  }
 ],
 "metadata": {
  "kernelspec": {
   "display_name": "adventofcode",
   "language": "python",
   "name": "adventofcode"
  },
  "language_info": {
   "codemirror_mode": {
    "name": "ipython",
    "version": 3
   },
   "file_extension": ".py",
   "mimetype": "text/x-python",
   "name": "python",
   "nbconvert_exporter": "python",
   "pygments_lexer": "ipython3",
   "version": "3.8.11"
  }
 },
 "nbformat": 4,
 "nbformat_minor": 5
}
