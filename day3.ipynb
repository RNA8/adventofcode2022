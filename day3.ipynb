{
 "cells": [
  {
   "cell_type": "code",
   "execution_count": 1,
   "id": "c1a9c05f",
   "metadata": {},
   "outputs": [],
   "source": [
    "import os\n",
    "import numpy as np\n",
    "import itertools\n",
    "\n",
    "import aocd\n",
    "from aocd.models import Puzzle\n",
    "from aocd import submit"
   ]
  },
  {
   "cell_type": "code",
   "execution_count": 2,
   "id": "52d855ee",
   "metadata": {},
   "outputs": [
    {
     "data": {
      "text/plain": [
       "<Puzzle(2022, 3) at 0x7fd3129dcdf0 - Rucksack Reorganization>"
      ]
     },
     "execution_count": 2,
     "metadata": {},
     "output_type": "execute_result"
    }
   ],
   "source": [
    "current_day = 3\n",
    "current_year = 2022\n",
    "puzzle = Puzzle(year=current_year, day=current_day)\n",
    "puzzle"
   ]
  },
  {
   "cell_type": "markdown",
   "id": "7fb8ae44",
   "metadata": {},
   "source": [
    "## Part 1\n",
    "\n"
   ]
  },
  {
   "cell_type": "code",
   "execution_count": 3,
   "id": "923f7f7e",
   "metadata": {},
   "outputs": [
    {
     "data": {
      "text/plain": [
       "['vJrrdQlGBQWPTBTF',\n",
       " 'fcpTMnMqMfTnZpgMfPbFBWzHPpBPzbCPPH',\n",
       " 'mcVMfcsqZgmgVcmfgcmZmqZNJhrlrdhNhDdrRRJSvDTRhJlD',\n",
       " 'pMFRmLwHMbRPmMbPPddvqqrrNSTFVttdrN',\n",
       " 'hgfpgCGZcjpcgfvNtdrtjvrdtSrd',\n",
       " 'gZgsBBBlZggBGhsfhpzlzLDLmLRDRMLDPw',\n",
       " 'hChhMFCvqtTMwbSSHgTZWHZd',\n",
       " 'jjBNPjJJNfsNjVnVJJNcNfPwGbSbDZnZZgHrddwHrrgWGb',\n",
       " 'mBBRRmBBQBmNJWhCzqllzhRCCv',\n",
       " 'lQgpngNgQvHdSgWwjMRmDjmMDHmm',\n",
       " 'zCLVzfzzbbCzsZZPbZPLfFJJMDWWRcDsmJRcjmwTmlRj',\n",
       " 'BblftzBtlFznptSQQQppNG',\n",
       " 'wJJwqCtCGRcVlqlM',\n",
       " 'BQpppjBQLczTrvHRjH',\n",
       " 'QQQFnmQWWRfnpQBpQpfDCwCdbPDCwbNNPtdJPCZw',\n",
       " 'gpJjshBpgjZGppJqBGJjJZzTwzTmcvzwwcmvwsCFdmcF',\n",
       " 'WPSSWWSQLVdDDfWltDWLPfttvFCVmzCCTFnmwcnnnCTCzVVv',\n",
       " 'tLldLltDQfflrRWNqBRjgHBpJNZjHj',\n",
       " 'bzVJjVnjbCGVLZQLmmsJZZQQ',\n",
       " 'RrwwzhPScWSwrhvZZvZlZvvSTsQS',\n",
       " 'HwFhzFWdPHfcPwPWPdhWffnngpjtnjgtpnfGCGnG',\n",
       " 'CPwQtftDQfPDBPBCfDDDCDptszcpVVddcRczVLVdccRGrLWs',\n",
       " 'FqlSnhlqhmhMbHqqSQlHbcrRrsWzRdzdWVzLRGRrVF',\n",
       " 'MbQmSnHZhqZMQMTJCttjCgPCwfgDwT',\n",
       " 'CCSpvHtZHSwftFtdtbfR',\n",
       " 'QJmNPmjjJNgNVNSzDlmRqbWlqWWfcqfWqbwfqR',\n",
       " 'MDhJzmSMDmsZrLhssrvh',\n",
       " 'ZhznnrLzcHhHSjsjSBSsBnSS',\n",
       " 'dTwqDdqDRQjNdwqjldggDvBJfmBfTSBbBSvfSJsmff',\n",
       " 'DjCldNglVwFVgZHHHzhCMcLhMC',\n",
       " 'vBnShjwwSshmQPmtJLpJtn',\n",
       " 'rDLFCWrClWCMWWVrbFVJqpQqpHmtbzJPQzJmzb',\n",
       " 'ZMCCDCMNrTWTrgScgGRhsvcsGLSG',\n",
       " 'LQpJglQQRjQsppfsQbjfbQlBgBhFhrvghhZCdPZZZthPgv',\n",
       " 'zVHDMSWVVMVWDzmnVMHDSMMzZvNFFrFvPCdmdFdNdrBPZhhd',\n",
       " 'ncqqSzMVCcGWVSCTWCDcVTffLLLbJsLLsRLblRQTps',\n",
       " 'zjGzLQtFzzRgwwLhVrqw',\n",
       " 'dfClCdHZsmffZDWlBZHCDBmhJbqTgbwgqbTnwrgrqRbT',\n",
       " 'HsdwPCsWDpDsBpfdWdHldWpsGvvccPvGcvzQvFQvccjNztQt',\n",
       " 'wmVVgFPrFdwJrlNHQHSHCCHL',\n",
       " 'tWBtvnBqZZMpcvmmqMBRCQQLCLWCHfNQQCSGWL',\n",
       " 'BBsnmcpqPswFsTws',\n",
       " 'BQRpFPJJJJPmPRqZNFVhcczHHzggwjBhghgzHw',\n",
       " 'snTsTLtrlvSSSslsGdcwmjhgggvjHhmH',\n",
       " 'nSsWWTtCbbDSnlRRZCfFRNZmCVJf',\n",
       " 'tRRMCWLtJWQLqLrmLHVLqmqh',\n",
       " 'JszPjSbGbsnGnSZprVpFhvFqvhrqZZ',\n",
       " 'zgbGSDBbPsTgbDBzzSDnDnPTcWlWJCQlNttNwwwMcMctcW',\n",
       " 'hlVRvPvzqqtRdwRRJsst',\n",
       " 'HHVNVBMBjHLTjVjwDjsbjJwbdmbbss',\n",
       " 'NBZHMCNVCCpgLTWggBpgNLTvqCPnGhQhCCGlqlhfcvvGfn',\n",
       " 'mwbfbfbDCqRJZRbCSvmfWTQFczTznnnFTFnrzJsz',\n",
       " 'BdhHlLjpjjjncSprnsSFWS',\n",
       " 'ljhVBPjSdHPRfZRZDvVRZM',\n",
       " 'tGqbqBSsntRgNqwNNVVHVN',\n",
       " 'hclFvJZvCDFppDpZpHNggMTwdlrMQNVgHM',\n",
       " 'CCFmcZLDFpvzZhCFJvZvmwjSRWsBLWsnfWjRRGGfnsst',\n",
       " 'GdGQQFdcMPwMdLFvWsNWFDLfss',\n",
       " 'SqjhtjnrbVznSztSqtzpjztVvTmNNmmfMMfDDMDDNTqfgsqv',\n",
       " 'rVhhZjppVrhpVzRbjSnzHPMwlJCJQdcRPPlPPcHJ',\n",
       " 'JVQLVgVZghFtFlhghtvSzsddmrdvssmzSWtd',\n",
       " 'HTMJCBMCjnwNBnCbTNwMdWfzvzsrsvffWbdsmfPr',\n",
       " 'BGnnpDnTjjHJwDBNpqlFQVQFQclcRFQqpR',\n",
       " 'BRhbrQDttbTTtRDtTRRzLHWZLZHGSqWLCBNWqLNL',\n",
       " 'fwFPPSjmsmJGLsNH',\n",
       " 'dvfSdvfVMjPTttTzczgTcd',\n",
       " 'dZgggwzgvsggtdstZTZgdfnhSJSSJDDhnDBdppnGnhSp',\n",
       " 'VQWRQWVCRLFGnThJCpFJ',\n",
       " 'LbmmbQVcHcmmlWjmVlVQNVRzvwwZvTrsrNwNwzZrMvfsqt',\n",
       " 'lDZQSlHDbLccRPQhCNhG',\n",
       " 'gtsntgvdvBvvqgsTgBggdrWRNzPhWczPbWcdWCccGGGP',\n",
       " 'sTBttvrFnnMTMJngbqfLlZLpwFVljwppZZDl',\n",
       " 'zNNNgqpgmLgqlHBHsMGslH',\n",
       " 'WdWFrFwhcwWRwhddcRWcdQbcDDslzBDszsHbGBDfbHfzVlVl',\n",
       " 'ZvhRrvPQwvWFQRZvFdJttSPgCmNppCNzJnJS',\n",
       " 'fCzRRNGfqNRvwpQhwrGcwZZT',\n",
       " 'gJnStgMmLhdHndSSTjcTrTpcmrjjcrrw',\n",
       " 'FFJBbdddFPPhFFNWCF',\n",
       " 'btrHRSBBSNLLRPLwhbhpqpfWhQppWZ',\n",
       " 'zCzTvvmgDvgDZhqWZZthtDZh',\n",
       " 'ttTjMsvCgRRLRSsBRG',\n",
       " 'LsSFFTTDWdCsmFTlLSsLDDRRQCvhpRQGNGQBJBhGGMNB',\n",
       " 'zqPtqZnjPPrPvJHBMHrJrMpv',\n",
       " 'VbqfjZfwgtfjPgZPgtwDLTLcTlcFdWLdcdVTJF',\n",
       " 'pfMCDmpHbdMQQdQFFG',\n",
       " 'gdjldRsVFRntQnqR',\n",
       " 'rlJVsWgWPWjsslSpDbScmSDPHfCd',\n",
       " 'lnFFGgBFBslDFGbFSjnNTjjppSrQHhnT',\n",
       " 'zcvmCRcvZmcZzWpTQhQrrTSPtHWH',\n",
       " 'CRccrZJmdJlwDJwgswGg',\n",
       " 'hllrrDzggGppgSSLNWgW',\n",
       " 'jlTlPwwqjjntVpWWPNnP',\n",
       " 'wjjJqvQjJjQJbTjlFqhBMzfDDmMCGBMHDCGb',\n",
       " 'jvQPhhtCRtfmqHHjqHHJsl',\n",
       " 'FFSTcBTBTMwFGCTwMTcGwTVnsHSJzqqJJJplmlpJHszZZzZD',\n",
       " 'dLMdVMNGBdGFMTNTRRLrQWCQhgWQbhgf',\n",
       " 'gdRgdgzzrvrzggDwgDGpPLzrbNljMTsbWWjWjZbTjLZMWcWj',\n",
       " 'tFfCQHJJnJMJTJjNNMjl',\n",
       " 'HmtffVttqHQmBCBQCqfFnCwRqpDvPRrGppRggNzdwgzp',\n",
       " 'DHSqzQbzWlRLDzMZNpVLgnpNLggw',\n",
       " 'cZcdTmPPthPdsvvdhPGTvJgwnpgjjTgNNwMVngNBjNfn',\n",
       " 'PPdJPvrtGtcFdFFchDRHDqHzZWSQQCrQWQ',\n",
       " 'BcgnLBLsFvRnGRRRlzfJbbPJzwHPwPFz',\n",
       " 'hCDjWMDVNfVllfzddw',\n",
       " 'qqMqpWCMjDTWNWTBLpgsgLvZwtGLLg',\n",
       " 'zczPgpGzhnbmbchhHwqwhSwfwHCFWw',\n",
       " 'VJdmVLlLdVJSJWHSTFwH',\n",
       " 'rlttQLVLdvvZpgcGbmDrzGMD',\n",
       " 'WSvtpqqtqccttVQpVvJNJSVNCmTlnCWwTTnWlBBBjwCBTlTP',\n",
       " 'ZgfPHfPfMHsDCwnlGBwTMGBM',\n",
       " 'rgdffZhPrrLsdLZpvcFSJJNvpJhcJv',\n",
       " 'qVdqJGvzgJzJgwzgWvdJzpblcRRWmLFFcLBmllFRRMRFRH',\n",
       " 'TGGSsSssNPTSLlRLcPHMmnPB',\n",
       " 'tTjTZtNGhrCjQNCjQQDTCSjZvfJbdgqrdpwqfVzwgzvdvVgb',\n",
       " 'VTmwcTVSMHwbMwbDVBTcMpJfpfnWqdJbZpJldfsjZn',\n",
       " 'hNtPhtzFzPQGCCGFFCGtnqQqWZWplsjWdlnlldJn',\n",
       " 'vRCRzvvFFFvhrRthPtLrtNGSwBVDScDSgHHjwwcBgSgTSL',\n",
       " 'dWCsWbWWchblsmbWVZqqsSpsGfBqBVBB',\n",
       " 'DtTtjPJrgjjtTTwgPwwjrTgnLqSBZQLqngQppqnfBVQfGp',\n",
       " 'PJPwwtDwHGGJtJRFHmhCFRCvdmHR',\n",
       " 'mMsMJSCjllsSSmBBclsMsJHDbcHqqbHpqHGbDZHbqHpb',\n",
       " 'RnQnGVnzGzFQgzWzpzvpqDHW',\n",
       " 'QVhRTfGLLFGTTFFwhnQVNfFwJsJsMjsBMrlsjrJlPSPlTrls',\n",
       " 'JNMJSVSGVCjnWZMZWWcH',\n",
       " 'gLTcqbqhqbbgzgnjpnjjWHnP',\n",
       " 'wqlbcrfTwrvcLBwwRtJwsNRstRsCCN',\n",
       " 'MlBssQBchZDLNJZgmvGg',\n",
       " 'fdzHMfHSzSprfgSvvJbmvDGNDW',\n",
       " 'PCHTRfjHnzHMzzfrCPCpMTlFhcFstqVwVCFllQcBtqss',\n",
       " 'TtFnnFJfDhtdfJJcFtfnsfcFjBjLDjHrDLrCjMjwCLLrZjrS',\n",
       " 'qQmWmQzvWpRQGvgpGGRGRzmWwZMwBLCHMZjbBBCLwrHSLrqr',\n",
       " 'MRllgRWWMlsJFnlFclJT',\n",
       " 'SRRrRDRBRTdbdMRZBZMprTCJCnWGvChJGzLSWWzsGhCs',\n",
       " 'wwqHPtFwjwTHLHvGTsGW',\n",
       " 'FlPtqTNVcTVtwtmjRbBZfQbfZbQmRRMR',\n",
       " 'WSWfQttffsHSfRRRStfnCsQQqlJpbhnrnmNzJbzqNbbrpmnb',\n",
       " 'FGFPddBcBwDPzpzbWlpzDbbh',\n",
       " 'ZPdPPLMFdGwFFGdwGdZwcZgTtSTVCsRRSgSRTQWTTtCTtH',\n",
       " 'vHsfGHTvSvHHHsGHctMgtHrJwbJJwrjgbrdzjWCrdrrw',\n",
       " 'hqZRLmmZpFhcLhFmrzJQbzzmQQJWJJbm',\n",
       " 'LNZFcpPlhBRhqDDllRtnMssGfBsnttGTnttT',\n",
       " 'VDVrLrZZcjrhhFrZppGlglGMPFwFWNQw',\n",
       " 'bzszSBHBWNGcscpN',\n",
       " 'TJqBqSfTBBqBHzJqddBqzcLnLjnhCRTvvRrnDrvrvZRn',\n",
       " 'GLzrNWbtMptHDmNDglgmlD',\n",
       " 'fZtcfCRvtBcQjdjgmmjj',\n",
       " 'RhBhhqfSPPpttrnPnVVW',\n",
       " 'BhVRJGwWqtHjZqTDLZ',\n",
       " 'gQnfpBdPNpQrPNSfBdndnpTTDFZttDLLzZzTzCLNLZZD',\n",
       " 'mQQPsgrldpgdBQgSbGVcmcRwGMWhwVwW',\n",
       " 'DrLCctBCLQtSSQcLbcQHWvvvlWHHnWlWBlNRRB',\n",
       " 'wqdmpgqsZhzGphwwpZGsppRvfnJsWfHWvfFfWFsfvlNN',\n",
       " 'mwmhVppTqpGqpNZpqTbSLLttDrDDtPQTtr',\n",
       " 'qwqmgnglDnlgtQzQJzJQhmWQ',\n",
       " 'pTpTpssdsVvNsdTSZGdSdjvCRcqcRcVWVczhWChtchzWcR',\n",
       " 'sGTvPqZvSGdZZGdsvNGdPHrFHFBDlDLwPgBFLLBB',\n",
       " 'BBBGsGGBrBBrqWVqRnWBBBWpzFwMhjMFSFPzzSwPFPpzzFvg',\n",
       " 'HtCdDdDctZDtbHCffcbddbNfvjvFSPFjMhMgLwPgjbFhjFFj',\n",
       " 'NJTDdltNgCNDZJJZCDJZDfJtrWWnQGBqlRVVlrBsnlrqqmnr',\n",
       " 'PwZhgbZSWSqqGznv',\n",
       " 'tTPVVmptcsrNrsTNpjRzqfHvvGfGWjfjqGzHWn',\n",
       " 'RVRtVDRmsRtrctmJDtgBBhBhbFgJPFFMFJgP',\n",
       " 'jPzzCCPzTtTfzrRtgSNVRHvFQVvbpQppVN',\n",
       " 'sSnDlBGBwJbFNplVlN',\n",
       " 'cLwSwdMhSwcBcsBZgWjCTCWfCLffrg',\n",
       " 'RSNPvTTNqFTSvNrSBvBGJGzmFMslgCMJCgmzlc',\n",
       " 'fDVfpptLWQfnVLffVHbQDQCclJzGGCtGmmGJmzMshzGh',\n",
       " 'VfQnWZfZDbdnVHWcfWnfHWVvPrTSNZqSwSqPjjvBwRqrNS',\n",
       " 'FLRpmRwcpjfzjSnD',\n",
       " 'tGvPNvBnPQggPQQvPgNHDjSSjDzzthjzfHrjlT',\n",
       " 'JGqvWNCCGQBWGBQvVLsCMMRLRnRMnwMc',\n",
       " 'fGJbzgBffCGpPGDVnG',\n",
       " 'mcTccshvbbdRNRsNjdLjnVlHVnHLqVpDpDqD',\n",
       " 'wdmsWvWssbZTcWvRhfzMQtrzMgrfrZJgfQ',\n",
       " 'NfSbvZHZNRSbQbbQgZrMjhLwMrjLjwHLCmmh',\n",
       " 'NTWdJBFcWJFcdsFJqcqPwqmjpMrLCMpLMwLP',\n",
       " 'dNJctnFBVfSGgvnfZz',\n",
       " 'GSnRJfGfRJgMDMGWnfzdmptpFJppLvwLwvLt',\n",
       " 'hbjZzrQbblqcLtpwlHvFplTH',\n",
       " 'qrzqbschrQCqqjPcCVcCGDfGMWDgWNGDDSfgnf',\n",
       " 'vmMpCdTndCvMdmnFcCRJWBJGcZJRJB',\n",
       " 'NDNwGzshPLrwVVNsjswhGzjFSfFFQQRSJWRBFcFRfsWFQB',\n",
       " 'NwNhNjVzhhzzrgzdqqvqtnqvlqdggG',\n",
       " 'MdPLVSSlMMVMmlLBBLFdvZNWqWztStttRRNqzqNGTq',\n",
       " 'DhJfhghhCgwChJgJwHHzbsHpnZRtTWqqfZRGTnWTZtNqNRWR',\n",
       " 'hwHpJbprwpQhDHDCbCCzsClBvrLMVFPvmPlMMVMdLrvj',\n",
       " 'DssDrqRsWsNfzfsWLRzjgTdBlgzFpMlgTFTglT',\n",
       " 'ttCZnSQmSQmgjGQGQgDlBp',\n",
       " 'bhDnCmbwVmCwwtZttPwbRWsRJcqWJfcfsfrqVrqq',\n",
       " 'ldBgTMTRvBDVnCCCTdSRTqNjbjSbPPPPqtfPqtPJFJ',\n",
       " 'cZHZrszLrrrZHrbNjNtbJCfqNJLt',\n",
       " 'GZzCzWZGGsGzmzZcmGssZzZVvnVdBDddRRDnVlWgRTDdBM',\n",
       " 'RjNrrjwGDDqqGJsHtzpMHHGz',\n",
       " 'QCbWgbShmBCCPClmmWFHzJzTbDdsMJsTtpTD',\n",
       " 'fffQfnSCWDBfhCDLRrNrwcrqVqwNqn',\n",
       " 'zmRrDRzqjmLLHzDjLsHLflJlVVJlWWTDTfdMtlWJ',\n",
       " 'pPQQnbvSpvNbgfgfVtMVJfgdtG',\n",
       " 'SnpnVFcPnNnPvpNSFNSbhHLhrjhCqRsRBRrHCLhzmC',\n",
       " 'CZZzlnCZNlGGcbVrbtVlMtct',\n",
       " 'MgFQDFgQRLLHhJgDFqQJQLgdtVTrttSrPSmcbmTtvSqvVSTV',\n",
       " 'hFQDDfMDfLgHwWfBzWwwsZGW',\n",
       " 'bHVDdHVHTPMvnSQnWSDQgDmm',\n",
       " 'GhrCJfbfrhfbRJcqGqlwZtnBRtBWSQgQWWnWQW',\n",
       " 'lfcCrqJhlfFqphpplNCrNVMPMPLbsLPLzFVHVLsVdz',\n",
       " 'VDhFCZhtFdPqwwcp',\n",
       " 'SvnvHNNnTvbwNNgnHwTHgwBTLcdqmmfmqLGmmTRLPfpdGP',\n",
       " 'BNWsHJgSnwgMMgMBBWMDVJjtjZrDJZzztJhjQr',\n",
       " 'HDsSHLRnpjbpbbRDbqLjLjjGGVffMVGMdvnfMcNvfBBGcB',\n",
       " 'TCzQQztwwNTMqMdBVv',\n",
       " 'hCQWmtCzZthPPZPrLjSbJqjSjLLFjLpr',\n",
       " 'ZrrZqJDcZSCFLLHBFcjjHF',\n",
       " 'TgvnDTlTtQwgBfwwwzLjGLdF',\n",
       " 'VbnVngMtvDTTVMQDQMDQlsbZJChCmCPhprrZqhqZSZPJ',\n",
       " 'glMGHBJTJJTplgwcCgcqcFhhbWncFm',\n",
       " 'sSswtPfRDmWcCqfchq',\n",
       " 'RZSdSzsVzNPSwSSQsdzSSQpGLjJTMpBGrJrLLrplZBpG',\n",
       " 'WQqqwLqQlnlWDwtbVbtCNfVbpV',\n",
       " 'dFTRjBPhcBgBrFhTPhrbVptJpNNbbtJCbJSL',\n",
       " 'hjcmcRmgPPcRcPDmHHzGLWmsDmzH',\n",
       " 'rWFmrRmmccSZJWvSLZTH',\n",
       " 'hDPhGbhSjtbpqJLvJHjLHTqj',\n",
       " 'pnplBlfBPPhlgfDbDhglPMMrwrRRSSncwccQzddzmC',\n",
       " 'LbccJCGzbcCJcfGczcnmNnvNmZNLSDZZWPWS',\n",
       " 'dwstRhTsrsFddPZqvNWP',\n",
       " 'BBggRrQstBwBRTHWTprRCHHGVljfCGCfcljHjbGV',\n",
       " 'FHVBSVDvnsFDwwSVwwvGVSMFWhWcWptMWchWMtPPcWtNNWcj',\n",
       " 'TgqJrJTRmRCNrbcLjprLnp',\n",
       " 'qQTlfdlZQgmfqqnFVznvQwvnsBsV',\n",
       " 'TGpDDMQGMZNtfvDJdtWd',\n",
       " 'jbrmstmllRmNvVhmmvJVhv',\n",
       " 'tbrRzFFLlRrjFlLlTQgLQwwLMwgTZBTB',\n",
       " 'QFgFWQQfSgLFGmtnnVmqCPWmPH',\n",
       " 'TTzjgTbRRqnRsCPCsP',\n",
       " 'NDMMgZjzcJvbjhMcjZbbbJJNpdpBfBvSBBQwBSQLQSpSplBG',\n",
       " 'zcRNsQSSMjRsNNZZFBLQHHFFBPWF',\n",
       " 'tvwCtgvqLJNnNBCH',\n",
       " 'fNNwqrqNMpTrDlcs',\n",
       " 'MMHMVPRJHJWvqzWctbtQQdQz',\n",
       " 'DFfNFffDnTllfTfFfmzsjqcdtQGQpbddQQbssn',\n",
       " 'mlFNCgFNNNLrmLFCThhhzJBvhSJPVhMgMh',\n",
       " 'PWjhljbHFhjbFMWhjbPfhbTGZvlGcGlCLvvwtGCNZGvc',\n",
       " 'SRqBqBrmQWQrgQrrqrJBLZNccLNZmTCtvTGtCvCt',\n",
       " 'rJDzDSSBrzdqQWDPHFMjMFdjHMVnbM',\n",
       " 'qqLwvvtrLFqqfqrjjjdBZfBCBBJdlT',\n",
       " 'ZGZpRZHbQDzDWRRRVdBzSSlBdzjjzdJJ',\n",
       " 'ZGpgNDQmWGDRmRpZMQbvPPtnnFnLsstFmnFrPL',\n",
       " 'TdhcfZhdZZdpdbPWttCWrrCN',\n",
       " 'MBMMqRLgpGpFFWbNsvLwvCPCCP',\n",
       " 'mpBMnBRMBGqJfZcfZZHZlhfm',\n",
       " 'CdmGdnMcMwHjhDtFFnrj',\n",
       " 'vPbVbPBPPpgpgWJpvTjqDZZqSHqVZShrDj',\n",
       " 'BppjjgvbJjbpNbzPfNcGCLlCRcmLLflllGcc',\n",
       " 'qDtgVttGFtlslStS',\n",
       " 'gCZbbHCjvJbZjCbJhHhHJrZcslJcLzLllcLNFssMSsTlSM',\n",
       " 'CWbWrZgWBQQBBpfdPm',\n",
       " 'hstPtCGtltlTClllPJLScVdPdJjLPJMV',\n",
       " 'NHRbDZDQSDFFjjdJ',\n",
       " 'RqbQpgBmqZvqZNQqgZmmbszpTtthtCswhjslwwpTWC',\n",
       " 'CVdwBJJdppbbwdBVrJbrJbGPlMFSLrjrPjmPFFmPRRDF',\n",
       " 'NNWHHhNZTcQWhnNFlmSSlRmLjnPPRF',\n",
       " 'qWsccHTZccsNsZcvTcNtStpBtbdVwpfBwbVCBq',\n",
       " 'lPQHNJhMPMPFlNMHBqZBwQwQwQZwcCqw',\n",
       " 'bWddDzbWbftdDSDbgttgnSDWccLwcvBczqcqGZzLccZTZwwc',\n",
       " 'spWrssWrnDtDpfSWDtsFqlFPjNMjRJVVNNPJNp',\n",
       " 'bCCfcWVLTHfSSdHwhH',\n",
       " 'sGQSZSzQJmmQsphwHHHsndnpHN',\n",
       " 'zPSqrmZPFCvFTbWMLV',\n",
       " 'tLtVBGLJqGqVGbzGSCsSsSqQsFvZCSQv',\n",
       " 'gRgdWlHTBHgjjHlWpWjWjrwdCfQRZFSssQQQZmQmMSvZfFMQ',\n",
       " 'lPHlpWgjTldprNWHNNdHjTctcLbVcnNJJGbVzBhnbhhJ',\n",
       " 'zVrSwzzJbVrbqFCVVVwVCztWDDtfTZsWDZTLZZmSWsDm',\n",
       " 'bpgHlgBbbGGGglBGRNvMpWfTDjmDfWDjfRZZWLtmZs',\n",
       " 'bGbvQHMpQccFJPPh',\n",
       " 'VGqCPmPjfGqCdMqVMhjhmPChDJDJzvrrbrBvrdrpnJDpJDQr',\n",
       " 'TSRsgHRSFHTlHvJvBDvvzlptbv',\n",
       " 'ZFLTsRRgZTgWscHTfWNWNPPBfGqmmMfV',\n",
       " 'TvTrrrCVCVwqjPrWfWhjfH',\n",
       " 'RRmgmnggltRgNpzRsdfqWWjdFdvNHfdh',\n",
       " 'zZlRzDGGZmbmmZbvGJVccwCMVcVVTLwDwC',\n",
       " 'QPsNlvvvSccbbNQcSPvDVSvzTLLCgRVzCJgTJpgCpphgzh',\n",
       " 'MDqHwFrMffgFpgpJLzTz',\n",
       " 'ZtdrffBrdqmBBmfwMtDtQPPPbjcNvnllnlbNtScn',\n",
       " 'HbbbcpTHHMMqNTCddCVBQvgPzJPJWQBQjvpBvQ',\n",
       " 'FFrDGtntFFwhrRFDFthfRhRmSJPJvvJZjZjWJJvJQJnvWjjg',\n",
       " 'rtfFfLmLRmNgdHqcLNHd',\n",
       " 'FpFHCFWtFSnCWnBfJJfgMJDGHDGGsG',\n",
       " 'rhrLrrhLrbtZThLfgsfGNDfgTgNcDs',\n",
       " 'QmPjbdqjmbbbrmhQqQZrZStRdlnnFdlRzVVVWlnpzR',\n",
       " 'bBMwwjzhbjhssvsGZBSZLr',\n",
       " 'JFtnDtRzJtffJHWNtHncRRrvGZvSnllZZZsgvlnvVvlv',\n",
       " 'RRPHPHFPHHdcHtzNfMQhdCwbqCmbMChhqq',\n",
       " 'pWGdFSWwwjLdvgNNvggl',\n",
       " 'mTNbmRPHmmVNmvZhnhBssBlhnb',\n",
       " 'HPTzRPffJJNzjCFpDWDz',\n",
       " 'MHlgzsqHlbmzgsHzlsbcRWPdPtjZFqhGGdrPrjPJGrVP',\n",
       " 'vpwwvQwCnhNQpSnLdVtrrZGZtZjdVSdJ',\n",
       " 'hfffwvTpvLwDpCLvDnQDHbmRRTcWRHMWWHWMmWMW',\n",
       " 'WHlNHWWldjpwntnWBPpPQFZFBFhZBZCZ',\n",
       " 'TqqvgvmgfmvDVLLfqqLsrFBRhrrBFJQBGPgPZGCR',\n",
       " 'mcDbcDmzLcmDDzfVzTQNjNzNztdzjNdwSHlH']"
      ]
     },
     "execution_count": 3,
     "metadata": {},
     "output_type": "execute_result"
    }
   ],
   "source": [
    "puzzle.input_data.splitlines()"
   ]
  },
  {
   "cell_type": "code",
   "execution_count": 10,
   "id": "68c1113f",
   "metadata": {},
   "outputs": [],
   "source": [
    "import string\n",
    "priorities = dict(zip(string.ascii_lowercase + string.ascii_uppercase,range(1,2*26+1)))"
   ]
  },
  {
   "cell_type": "code",
   "execution_count": 19,
   "id": "0145d88c",
   "metadata": {},
   "outputs": [
    {
     "data": {
      "text/plain": [
       "7795"
      ]
     },
     "execution_count": 19,
     "metadata": {},
     "output_type": "execute_result"
    }
   ],
   "source": [
    "priority_sum = 0\n",
    "for line in puzzle.input_data.splitlines():\n",
    "    line_len = len(line)\n",
    "    assert line_len % 2 == 0, 'line length is not even'\n",
    "    first, second = line[:line_len//2], line[line_len//2:]\n",
    "    common_elem = list(set(first) & set(second))[0]\n",
    "    priority_sum += priorities[common_elem]\n",
    "\n",
    "priority_sum"
   ]
  },
  {
   "cell_type": "code",
   "execution_count": 20,
   "id": "244b2ec7",
   "metadata": {},
   "outputs": [
    {
     "name": "stdout",
     "output_type": "stream",
     "text": [
      "That's the right answer!  You are one gold star closer to collecting enough star fruit. [Continue to Part Two]\n"
     ]
    },
    {
     "data": {
      "text/plain": [
       "'7795'"
      ]
     },
     "execution_count": 20,
     "metadata": {},
     "output_type": "execute_result"
    }
   ],
   "source": [
    "puzzle.answer_a = priority_sum\n",
    "puzzle.answer_a"
   ]
  },
  {
   "cell_type": "markdown",
   "id": "f3ef71ed",
   "metadata": {},
   "source": [
    "## Part 2\n",
    "\n"
   ]
  },
  {
   "cell_type": "code",
   "execution_count": 23,
   "id": "26e484e6",
   "metadata": {},
   "outputs": [],
   "source": [
    "data = puzzle.input_data.splitlines()\n"
   ]
  },
  {
   "cell_type": "code",
   "execution_count": 32,
   "id": "f7aa8030",
   "metadata": {},
   "outputs": [
    {
     "data": {
      "text/plain": [
       "2703"
      ]
     },
     "execution_count": 32,
     "metadata": {},
     "output_type": "execute_result"
    }
   ],
   "source": [
    "priority_sum = 0\n",
    "for i in range(0,len(data),3):\n",
    "    a, b, c = data[i:i+3]\n",
    "    badge = list(set(a) & set(b) & set(c))[0]\n",
    "    priority_sum += priorities[badge]\n",
    "priority_sum"
   ]
  },
  {
   "cell_type": "code",
   "execution_count": 33,
   "id": "4c6b7c13",
   "metadata": {},
   "outputs": [
    {
     "name": "stdout",
     "output_type": "stream",
     "text": [
      "That's the right answer!  You are one gold star closer to collecting enough star fruit.You have completed Day 3! You can [Shareon\n",
      "  Twitter\n",
      "Mastodon] this victory or [Return to Your Advent Calendar].\n"
     ]
    },
    {
     "data": {
      "text/plain": [
       "'2703'"
      ]
     },
     "execution_count": 33,
     "metadata": {},
     "output_type": "execute_result"
    }
   ],
   "source": [
    "puzzle.answer_b = priority_sum\n",
    "puzzle.answer_b"
   ]
  },
  {
   "cell_type": "code",
   "execution_count": null,
   "id": "9b2ca207",
   "metadata": {},
   "outputs": [],
   "source": []
  }
 ],
 "metadata": {
  "kernelspec": {
   "display_name": "adventofcode",
   "language": "python",
   "name": "adventofcode"
  },
  "language_info": {
   "codemirror_mode": {
    "name": "ipython",
    "version": 3
   },
   "file_extension": ".py",
   "mimetype": "text/x-python",
   "name": "python",
   "nbconvert_exporter": "python",
   "pygments_lexer": "ipython3",
   "version": "3.8.11"
  }
 },
 "nbformat": 4,
 "nbformat_minor": 5
}
