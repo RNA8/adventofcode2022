{
 "cells": [
  {
   "cell_type": "code",
   "execution_count": 1,
   "id": "c1a9c05f",
   "metadata": {},
   "outputs": [],
   "source": [
    "import os\n",
    "import numpy as np\n",
    "import itertools\n",
    "\n",
    "import aocd\n",
    "from aocd.models import Puzzle\n",
    "from aocd import submit\n",
    "\n",
    "import re\n",
    "import networkx as nx"
   ]
  },
  {
   "cell_type": "code",
   "execution_count": 2,
   "id": "52d855ee",
   "metadata": {},
   "outputs": [
    {
     "data": {
      "text/plain": [
       "<Puzzle(2022, 12) at 0x7efd1dcfe490 - Hill Climbing Algorithm>"
      ]
     },
     "execution_count": 2,
     "metadata": {},
     "output_type": "execute_result"
    }
   ],
   "source": [
    "current_day = 12\n",
    "current_year = 2022\n",
    "puzzle = Puzzle(year=current_year, day=current_day)\n",
    "puzzle"
   ]
  },
  {
   "cell_type": "markdown",
   "id": "7fb8ae44",
   "metadata": {},
   "source": [
    "## Part 1\n",
    "\n"
   ]
  },
  {
   "cell_type": "code",
   "execution_count": 3,
   "id": "3058d288",
   "metadata": {},
   "outputs": [],
   "source": [
    "import string\n",
    "grid = []\n",
    "source = None, None\n",
    "dest = None, None\n",
    "for row, line in enumerate(puzzle.input_data.splitlines()):\n",
    "    if 'S' in line:\n",
    "        col = line.index('S')\n",
    "        source = row,col\n",
    "        line = line.replace('S','a')\n",
    "    if 'E' in line:\n",
    "        col = line.index('E')\n",
    "        dest = row,col\n",
    "        line = line.replace('E','z')\n",
    "    grid.append(list(map(lambda x:string.ascii_lowercase.index(x), line)))\n",
    "height,width = len(grid), len(grid[0])\n"
   ]
  },
  {
   "cell_type": "code",
   "execution_count": 4,
   "id": "651b5b27",
   "metadata": {},
   "outputs": [],
   "source": [
    "graph = nx.DiGraph()\n",
    "for row in range(height):\n",
    "    for col in range(width):\n",
    "        for delta_row, delta_col in [(1, 0), (-1, 0), (0, 1), (0, -1)]:\n",
    "            next_row, next_col = row + delta_row, col + delta_col\n",
    "            if 0 <= next_row < height and 0 <= next_col < width:\n",
    "                if grid[next_row][next_col] <= grid[row][col] + 1:\n",
    "                    graph.add_edge((row, col), (next_row, next_col))"
   ]
  },
  {
   "cell_type": "code",
   "execution_count": 5,
   "id": "c0de1f20",
   "metadata": {},
   "outputs": [],
   "source": [
    "result = nx.shortest_path_length(graph, source, dest)"
   ]
  },
  {
   "cell_type": "code",
   "execution_count": 6,
   "id": "a60b0d6f",
   "metadata": {},
   "outputs": [
    {
     "data": {
      "text/plain": [
       "'449'"
      ]
     },
     "execution_count": 6,
     "metadata": {},
     "output_type": "execute_result"
    }
   ],
   "source": [
    "puzzle.answer_a = result\n",
    "puzzle.answer_a"
   ]
  },
  {
   "cell_type": "markdown",
   "id": "f3ef71ed",
   "metadata": {},
   "source": [
    "## Part 2\n",
    "\n"
   ]
  },
  {
   "cell_type": "code",
   "execution_count": 7,
   "id": "08a2ef1f",
   "metadata": {},
   "outputs": [
    {
     "name": "stdout",
     "output_type": "stream",
     "text": [
      "443\n"
     ]
    }
   ],
   "source": [
    "import math\n",
    "shortest_path_length = math.inf\n",
    "cntr = 0\n",
    "for row in range(height):\n",
    "    for col in range(width):\n",
    "        if grid[row][col] == 0:\n",
    "            try:\n",
    "                path_length = nx.shortest_path_length(graph, (row,col), dest)\n",
    "                shortest_path_length = min(shortest_path_length, path_length)\n",
    "            except:\n",
    "                pass\n",
    "            cntr += 1\n",
    "print(shortest_path_length)"
   ]
  },
  {
   "cell_type": "code",
   "execution_count": 8,
   "id": "4c6b7c13",
   "metadata": {},
   "outputs": [
    {
     "data": {
      "text/plain": [
       "'443'"
      ]
     },
     "execution_count": 8,
     "metadata": {},
     "output_type": "execute_result"
    }
   ],
   "source": [
    "puzzle.answer_b = shortest_path_length\n",
    "puzzle.answer_b"
   ]
  },
  {
   "cell_type": "code",
   "execution_count": null,
   "id": "fdc23772",
   "metadata": {},
   "outputs": [],
   "source": []
  }
 ],
 "metadata": {
  "kernelspec": {
   "display_name": "adventofcode",
   "language": "python",
   "name": "adventofcode"
  },
  "language_info": {
   "codemirror_mode": {
    "name": "ipython",
    "version": 3
   },
   "file_extension": ".py",
   "mimetype": "text/x-python",
   "name": "python",
   "nbconvert_exporter": "python",
   "pygments_lexer": "ipython3",
   "version": "3.8.11"
  }
 },
 "nbformat": 4,
 "nbformat_minor": 5
}
