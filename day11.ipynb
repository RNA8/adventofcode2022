{
 "cells": [
  {
   "cell_type": "code",
   "execution_count": 92,
   "id": "c1a9c05f",
   "metadata": {},
   "outputs": [],
   "source": [
    "import os\n",
    "import numpy as np\n",
    "import itertools\n",
    "\n",
    "import aocd\n",
    "from aocd.models import Puzzle\n",
    "from aocd import submit\n",
    "\n",
    "import re"
   ]
  },
  {
   "cell_type": "code",
   "execution_count": 93,
   "id": "52d855ee",
   "metadata": {},
   "outputs": [
    {
     "data": {
      "text/plain": [
       "<Puzzle(2022, 11) at 0x7fbc663a1760 - Monkey in the Middle>"
      ]
     },
     "execution_count": 93,
     "metadata": {},
     "output_type": "execute_result"
    }
   ],
   "source": [
    "current_day = 11\n",
    "current_year = 2022\n",
    "puzzle = Puzzle(year=current_year, day=current_day)\n",
    "puzzle"
   ]
  },
  {
   "cell_type": "code",
   "execution_count": 94,
   "id": "3058d288",
   "metadata": {},
   "outputs": [
    {
     "data": {
      "text/plain": [
       "['Monkey 0:',\n",
       " '  Starting items: 97, 81, 57, 57, 91, 61',\n",
       " '  Operation: new = old * 7',\n",
       " '  Test: divisible by 11',\n",
       " '    If true: throw to monkey 5',\n",
       " '    If false: throw to monkey 6',\n",
       " '',\n",
       " 'Monkey 1:',\n",
       " '  Starting items: 88, 62, 68, 90',\n",
       " '  Operation: new = old * 17',\n",
       " '  Test: divisible by 19',\n",
       " '    If true: throw to monkey 4',\n",
       " '    If false: throw to monkey 2',\n",
       " '',\n",
       " 'Monkey 2:',\n",
       " '  Starting items: 74, 87',\n",
       " '  Operation: new = old + 2',\n",
       " '  Test: divisible by 5',\n",
       " '    If true: throw to monkey 7',\n",
       " '    If false: throw to monkey 4',\n",
       " '',\n",
       " 'Monkey 3:',\n",
       " '  Starting items: 53, 81, 60, 87, 90, 99, 75',\n",
       " '  Operation: new = old + 1',\n",
       " '  Test: divisible by 2',\n",
       " '    If true: throw to monkey 2',\n",
       " '    If false: throw to monkey 1',\n",
       " '',\n",
       " 'Monkey 4:',\n",
       " '  Starting items: 57',\n",
       " '  Operation: new = old + 6',\n",
       " '  Test: divisible by 13',\n",
       " '    If true: throw to monkey 7',\n",
       " '    If false: throw to monkey 0',\n",
       " '',\n",
       " 'Monkey 5:',\n",
       " '  Starting items: 54, 84, 91, 55, 59, 72, 75, 70',\n",
       " '  Operation: new = old * old',\n",
       " '  Test: divisible by 7',\n",
       " '    If true: throw to monkey 6',\n",
       " '    If false: throw to monkey 3',\n",
       " '',\n",
       " 'Monkey 6:',\n",
       " '  Starting items: 95, 79, 79, 68, 78',\n",
       " '  Operation: new = old + 3',\n",
       " '  Test: divisible by 3',\n",
       " '    If true: throw to monkey 1',\n",
       " '    If false: throw to monkey 3',\n",
       " '',\n",
       " 'Monkey 7:',\n",
       " '  Starting items: 61, 97, 67',\n",
       " '  Operation: new = old + 4',\n",
       " '  Test: divisible by 17',\n",
       " '    If true: throw to monkey 0',\n",
       " '    If false: throw to monkey 5']"
      ]
     },
     "execution_count": 94,
     "metadata": {},
     "output_type": "execute_result"
    }
   ],
   "source": [
    "puzzle.input_data.splitlines()"
   ]
  },
  {
   "cell_type": "code",
   "execution_count": 95,
   "id": "d125d1f4",
   "metadata": {},
   "outputs": [],
   "source": [
    "test_data = '''Monkey 0:\n",
    "  Starting items: 79, 98\n",
    "  Operation: new = old * 19\n",
    "  Test: divisible by 23\n",
    "    If true: throw to monkey 2\n",
    "    If false: throw to monkey 3\n",
    "\n",
    "Monkey 1:\n",
    "  Starting items: 54, 65, 75, 74\n",
    "  Operation: new = old + 6\n",
    "  Test: divisible by 19\n",
    "    If true: throw to monkey 2\n",
    "    If false: throw to monkey 0\n",
    "\n",
    "Monkey 2:\n",
    "  Starting items: 79, 60, 97\n",
    "  Operation: new = old * old\n",
    "  Test: divisible by 13\n",
    "    If true: throw to monkey 1\n",
    "    If false: throw to monkey 3\n",
    "\n",
    "Monkey 3:\n",
    "  Starting items: 74\n",
    "  Operation: new = old + 3\n",
    "  Test: divisible by 17\n",
    "    If true: throw to monkey 0\n",
    "    If false: throw to monkey 1'''"
   ]
  },
  {
   "cell_type": "code",
   "execution_count": 96,
   "id": "f1d9a587",
   "metadata": {},
   "outputs": [],
   "source": [
    "from collections import deque\n",
    "\n",
    "class Monkey:\n",
    "    def __init__(self, monkey_info):\n",
    "        monkey_info = [line.strip() for line in monkey_info.splitlines()]\n",
    "        self.monkey_id = int(monkey_info[0].replace('Monkey ','').replace(':',''))\n",
    "        self.items = deque()\n",
    "        for item in map(int,monkey_info[1].replace('Starting items: ','').split(', ')):\n",
    "            self.items.append(item)\n",
    "        operation = monkey_info[2].split(' = ')[-1]\n",
    "        self.op_func = lambda old: eval(operation)\n",
    "        self.op_func.__name__ = operation\n",
    "        self.test_divisor = int(monkey_info[3].split()[-1])\n",
    "        self.test_true_monkey_id = int(monkey_info[4].split('monkey ')[-1])\n",
    "        self.test_false_monkey_id = int(monkey_info[5].split('monkey ')[-1])\n",
    "        self.num_inspected = 0\n",
    "        self.monkeys_lcm = 0\n",
    "\n",
    "    def __repr__(self):\n",
    "        return f\"Monkey {self.monkey_id}: \\n\" + \\\n",
    "        f\"Items = {self.items}\\n\" + \\\n",
    "        f\"Op: {self.op_func}\\n\" + \\\n",
    "        f\"Test: divisible by {self.test_divisor}\\n\" + \\\n",
    "        f\"If true: throw to monkey {self.test_true_monkey_id}\\n\" + \\\n",
    "        f\"If false: throw to monkey {self.test_false_monkey_id}\\n\" + \\\n",
    "        f\"Num inspected = {self.num_inspected}\\n\"\n",
    "        \n",
    "    def turn_part1(self, monkeys):\n",
    "        while self.items:\n",
    "            self.num_inspected += 1\n",
    "            item = self.items.popleft()\n",
    "            item = self.op_func(item)\n",
    "            item = item // 3\n",
    "            if item % self.test_divisor == 0:\n",
    "                monkeys[self.test_true_monkey_id].items.append(item)\n",
    "            else:\n",
    "                monkeys[self.test_false_monkey_id].items.append(item)\n",
    "        \n",
    "    def turn_part2(self, monkeys):\n",
    "        while self.items:\n",
    "            self.num_inspected += 1\n",
    "            item = self.items.popleft()\n",
    "            item = self.op_func(item)\n",
    "            assert self.monkeys_lcm != 0, \"Set monkeys_lcm first!\"\n",
    "            if item > self.monkeys_lcm:\n",
    "                item = item % self.monkeys_lcm\n",
    "            if item % self.test_divisor == 0:\n",
    "                monkeys[self.test_true_monkey_id].items.append(item)\n",
    "            else:\n",
    "                monkeys[self.test_false_monkey_id].items.append(item)\n",
    "        "
   ]
  },
  {
   "cell_type": "markdown",
   "id": "7fb8ae44",
   "metadata": {},
   "source": [
    "## Part 1\n",
    "\n"
   ]
  },
  {
   "cell_type": "code",
   "execution_count": 97,
   "id": "f8431c04",
   "metadata": {},
   "outputs": [
    {
     "name": "stdout",
     "output_type": "stream",
     "text": [
      "result = 10605\n"
     ]
    }
   ],
   "source": [
    "monkeys = [Monkey(line) for line in test_data.split('\\n\\n')]\n",
    "num_monkeys = len(monkeys)\n",
    "\n",
    "num_iters = 20\n",
    "for iteration in range(num_iters):\n",
    "    for i in range(num_monkeys):\n",
    "        monkeys[i].turn_part1(monkeys)\n",
    "\n",
    "# print(monkeys)\n",
    "a, b = sorted([monkey.num_inspected for monkey in monkeys])[-2:]\n",
    "result = a * b\n",
    "print(f\"{result = }\")"
   ]
  },
  {
   "cell_type": "code",
   "execution_count": 98,
   "id": "c9611577",
   "metadata": {},
   "outputs": [
    {
     "name": "stdout",
     "output_type": "stream",
     "text": [
      "result = 56350\n"
     ]
    }
   ],
   "source": [
    "monkeys = [Monkey(line) for line in puzzle.input_data.split('\\n\\n')]\n",
    "num_monkeys = len(monkeys)\n",
    "\n",
    "num_iters = 20\n",
    "for iteration in range(num_iters):\n",
    "    for i in range(num_monkeys):\n",
    "        monkeys[i].turn_part1(monkeys)\n",
    "\n",
    "# print(monkeys)\n",
    "a, b = sorted([monkey.num_inspected for monkey in monkeys])[-2:]\n",
    "result = a * b\n",
    "print(f\"{result = }\")"
   ]
  },
  {
   "cell_type": "code",
   "execution_count": 63,
   "id": "a60b0d6f",
   "metadata": {},
   "outputs": [
    {
     "name": "stdout",
     "output_type": "stream",
     "text": [
      "That's the right answer!  You are one gold star closer to collecting enough star fruit. [Continue to Part Two]\n"
     ]
    },
    {
     "data": {
      "text/plain": [
       "'56350'"
      ]
     },
     "execution_count": 63,
     "metadata": {},
     "output_type": "execute_result"
    }
   ],
   "source": [
    "puzzle.answer_a = result\n",
    "puzzle.answer_a"
   ]
  },
  {
   "cell_type": "markdown",
   "id": "f3ef71ed",
   "metadata": {},
   "source": [
    "## Part 2\n",
    "\n"
   ]
  },
  {
   "cell_type": "code",
   "execution_count": 99,
   "id": "85a3bf51",
   "metadata": {},
   "outputs": [],
   "source": [
    "from functools import reduce\n",
    "\n",
    "def lcm(lst):\n",
    "    return reduce(lambda x, y: x*y, lst, 1)"
   ]
  },
  {
   "cell_type": "code",
   "execution_count": 100,
   "id": "cbc0404a",
   "metadata": {
    "scrolled": true
   },
   "outputs": [
    {
     "name": "stdout",
     "output_type": "stream",
     "text": [
      "[Monkey 0: \n",
      "Items = deque([63602, 56040, 11941, 10573, 61607])\n",
      "Op: <function Monkey.__init__.<locals>.<lambda> at 0x7fbc660974c0>\n",
      "Test: divisible by 23\n",
      "If true: throw to monkey 2\n",
      "If false: throw to monkey 3\n",
      "Num inspected = 52166\n",
      ", Monkey 1: \n",
      "Items = deque([90861, 86149, 27648, 21340, 76915])\n",
      "Op: <function Monkey.__init__.<locals>.<lambda> at 0x7fbc66097790>\n",
      "Test: divisible by 19\n",
      "If true: throw to monkey 2\n",
      "If false: throw to monkey 0\n",
      "Num inspected = 47830\n",
      ", Monkey 2: \n",
      "Items = deque([])\n",
      "Op: <function Monkey.__init__.<locals>.<lambda> at 0x7fbc66097820>\n",
      "Test: divisible by 13\n",
      "If true: throw to monkey 1\n",
      "If false: throw to monkey 3\n",
      "Num inspected = 1938\n",
      ", Monkey 3: \n",
      "Items = deque([])\n",
      "Op: <function Monkey.__init__.<locals>.<lambda> at 0x7fbc660978b0>\n",
      "Test: divisible by 17\n",
      "If true: throw to monkey 0\n",
      "If false: throw to monkey 1\n",
      "Num inspected = 52013\n",
      "]\n",
      "result = 2713310158\n"
     ]
    }
   ],
   "source": [
    "monkeys = [Monkey(line) for line in test_data.split('\\n\\n')]\n",
    "num_monkeys = len(monkeys)\n",
    "monkeys_lcm = lcm(monkey.test_divisor for monkey in monkeys)\n",
    "for monkey in monkeys:\n",
    "    monkey.monkeys_lcm = monkeys_lcm\n",
    "\n",
    "num_iters = 10000\n",
    "for iteration in range(num_iters):\n",
    "    for i in range(num_monkeys):\n",
    "        monkeys[i].turn_part2(monkeys)\n",
    "\n",
    "print(monkeys)\n",
    "a, b = sorted([monkey.num_inspected for monkey in monkeys])[-2:]\n",
    "result = a * b\n",
    "print(f\"{result = }\")"
   ]
  },
  {
   "cell_type": "code",
   "execution_count": 101,
   "id": "6310ded8",
   "metadata": {},
   "outputs": [
    {
     "name": "stdout",
     "output_type": "stream",
     "text": [
      "[Monkey 0: \n",
      "Items = deque([1066252, 1066252, 1976518, 6658832, 4712017, 1528869, 2714330])\n",
      "Op: <function Monkey.__init__.<locals>.<lambda> at 0x7fbc66345dc0>\n",
      "Test: divisible by 11\n",
      "If true: throw to monkey 5\n",
      "If false: throw to monkey 6\n",
      "Num inspected = 100279\n",
      ", Monkey 1: \n",
      "Items = deque([8986267, 8986267, 8357947, 8986267, 1996207, 628357, 4805257, 4884414, 3397866, 4301076, 4301076])\n",
      "Op: <function Monkey.__init__.<locals>.<lambda> at 0x7fbc66345d30>\n",
      "Test: divisible by 19\n",
      "If true: throw to monkey 4\n",
      "If false: throw to monkey 2\n",
      "Num inspected = 66247\n",
      ", Monkey 2: \n",
      "Items = deque([4309322, 6999710, 4135940, 3611178, 2339124, 6658824, 8034800])\n",
      "Op: <function Monkey.__init__.<locals>.<lambda> at 0x7fbc663451f0>\n",
      "Test: divisible by 5\n",
      "If true: throw to monkey 7\n",
      "If false: throw to monkey 4\n",
      "Num inspected = 127552\n",
      ", Monkey 3: \n",
      "Items = deque([2860146, 628356, 3880776, 4135939, 6713507, 3611177, 6876712, 5951963])\n",
      "Op: <function Monkey.__init__.<locals>.<lambda> at 0x7fbc66345820>\n",
      "Test: divisible by 2\n",
      "If true: throw to monkey 2\n",
      "If false: throw to monkey 1\n",
      "Num inspected = 104753\n",
      ", Monkey 4: \n",
      "Items = deque([])\n",
      "Op: <function Monkey.__init__.<locals>.<lambda> at 0x7fbc663450d0>\n",
      "Test: divisible by 13\n",
      "If true: throw to monkey 7\n",
      "If false: throw to monkey 0\n",
      "Num inspected = 109399\n",
      ", Monkey 5: \n",
      "Items = deque([8205774, 2888916, 2888916])\n",
      "Op: <function Monkey.__init__.<locals>.<lambda> at 0x7fbc66097670>\n",
      "Test: divisible by 7\n",
      "If true: throw to monkey 6\n",
      "If false: throw to monkey 3\n",
      "Num inspected = 36509\n",
      ", Monkey 6: \n",
      "Items = deque([])\n",
      "Op: <function Monkey.__init__.<locals>.<lambda> at 0x7fbc660970d0>\n",
      "Test: divisible by 3\n",
      "If true: throw to monkey 1\n",
      "If false: throw to monkey 3\n",
      "Num inspected = 100297\n",
      ", Monkey 7: \n",
      "Items = deque([])\n",
      "Op: <function Monkey.__init__.<locals>.<lambda> at 0x7fbc660975e0>\n",
      "Test: divisible by 17\n",
      "If true: throw to monkey 0\n",
      "If false: throw to monkey 5\n",
      "Num inspected = 27340\n",
      "]\n",
      "result = 13954061248\n"
     ]
    }
   ],
   "source": [
    "monkeys = [Monkey(line) for line in puzzle.input_data.split('\\n\\n')]\n",
    "num_monkeys = len(monkeys)\n",
    "monkeys_lcm = lcm(monkey.test_divisor for monkey in monkeys)\n",
    "for monkey in monkeys:\n",
    "    monkey.monkeys_lcm = monkeys_lcm\n",
    "\n",
    "num_iters = 10000\n",
    "for iteration in range(num_iters):\n",
    "    for i in range(num_monkeys):\n",
    "        monkeys[i].turn_part2(monkeys)\n",
    "\n",
    "print(monkeys)\n",
    "a, b = sorted([monkey.num_inspected for monkey in monkeys])[-2:]\n",
    "result = a * b\n",
    "print(f\"{result = }\")"
   ]
  },
  {
   "cell_type": "code",
   "execution_count": 91,
   "id": "4c6b7c13",
   "metadata": {},
   "outputs": [
    {
     "name": "stdout",
     "output_type": "stream",
     "text": [
      "That's the right answer!  You are one gold star closer to collecting enough star fruit.You have completed Day 11! You can [Shareon\n",
      "  Twitter\n",
      "Mastodon] this victory or [Return to Your Advent Calendar].\n"
     ]
    },
    {
     "data": {
      "text/plain": [
       "'13954061248'"
      ]
     },
     "execution_count": 91,
     "metadata": {},
     "output_type": "execute_result"
    }
   ],
   "source": [
    "puzzle.answer_b = result\n",
    "puzzle.answer_b"
   ]
  },
  {
   "cell_type": "code",
   "execution_count": null,
   "id": "fdc23772",
   "metadata": {},
   "outputs": [],
   "source": []
  }
 ],
 "metadata": {
  "kernelspec": {
   "display_name": "adventofcode",
   "language": "python",
   "name": "adventofcode"
  },
  "language_info": {
   "codemirror_mode": {
    "name": "ipython",
    "version": 3
   },
   "file_extension": ".py",
   "mimetype": "text/x-python",
   "name": "python",
   "nbconvert_exporter": "python",
   "pygments_lexer": "ipython3",
   "version": "3.8.11"
  }
 },
 "nbformat": 4,
 "nbformat_minor": 5
}
