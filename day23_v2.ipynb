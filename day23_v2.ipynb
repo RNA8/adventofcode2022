{
 "cells": [
  {
   "cell_type": "code",
   "execution_count": 1,
   "id": "c1a9c05f",
   "metadata": {},
   "outputs": [],
   "source": [
    "import aocd\n",
    "from aocd.models import Puzzle\n",
    "from aocd import submit\n",
    "from collections import defaultdict\n",
    "import itertools\n",
    "\n",
    "current_day = 23\n",
    "current_year = 2022\n",
    "puzzle = Puzzle(year=current_year, day=current_day)"
   ]
  },
  {
   "cell_type": "code",
   "execution_count": 2,
   "id": "7881562b",
   "metadata": {},
   "outputs": [],
   "source": [
    "test_input = '''....#..\n",
    "..###.#\n",
    "#...#.#\n",
    ".#...##\n",
    "#.###..\n",
    "##.#.##\n",
    ".#..#..'''\n",
    "\n",
    "# test_input = '''.....\n",
    "# ..##.\n",
    "# ..#..\n",
    "# .....\n",
    "# ..##.\n",
    "# .....'''\n",
    "\n",
    "def get_input_data(test = 0):\n",
    "    if test:\n",
    "        input_data = test_input\n",
    "    else:\n",
    "        input_data = puzzle.input_data\n",
    "    return input_data"
   ]
  },
  {
   "cell_type": "code",
   "execution_count": 3,
   "id": "8901d975",
   "metadata": {},
   "outputs": [],
   "source": [
    "def crange(start, num_steps, modulo):\n",
    "    '''\n",
    "    circular range - starting at 'start', going for num_steps iterations, and output is modulo w.r.t. 'modulo'\n",
    "    '''\n",
    "    index = start % modulo\n",
    "    for i in range(num_steps):\n",
    "        yield index\n",
    "        index = (index + 1) % modulo"
   ]
  },
  {
   "cell_type": "code",
   "execution_count": 4,
   "id": "6360f9d6",
   "metadata": {},
   "outputs": [],
   "source": [
    "class Ground:\n",
    "\n",
    "    def __init__(self, ground_description):\n",
    "        ground_description = ground_description.splitlines()\n",
    "        \n",
    "        elf_id = 0\n",
    "        self.elf_locations, self.new_elf_locations = {}, {}\n",
    "        for row, line in enumerate(ground_description):\n",
    "            for col, char in enumerate(line):\n",
    "                if char == '#':\n",
    "                    self.elf_locations[(row,col)] = elf_id\n",
    "                    elf_id += 1\n",
    "        self.num_elves = elf_id\n",
    "\n",
    "        self.rules = [self.north_neighbors, self.south_neighbors, self.west_neighbors, self.east_neighbors]\n",
    "        # directions = ['north','south','west','east']\n",
    "        self.directions = [(-1,0), (+1,0), (0,-1), (0,+1)]\n",
    "        self.num_rules = len(self.rules)\n",
    "        self.rule_start_idx = -1\n",
    "        self.elf_proposals = defaultdict(list)\n",
    "        self.num_rounds_completed = 0\n",
    "        \n",
    "    def west_neighbors(self, row, col):\n",
    "        yield from [(row-1,col-1),(row,col-1),(row+1,col-1)]\n",
    "\n",
    "    def east_neighbors(self, row, col):\n",
    "        yield from [(row-1,col+1),(row,col+1),(row+1,col+1)]\n",
    "\n",
    "    def south_neighbors(self, row, col):\n",
    "        yield from [(row+1,col-1),(row+1,col),(row+1,col+1)]\n",
    "\n",
    "    def north_neighbors(self, row, col):\n",
    "        yield from [(row-1,col-1),(row-1,col),(row-1,col+1)]\n",
    "\n",
    "    def neighborhood(self, row, col):\n",
    "        for drow in [-1,0,1]:\n",
    "            for dcol in [-1,0,1]:\n",
    "                if drow==0 and dcol==0:\n",
    "                    continue\n",
    "                else:\n",
    "                    yield (row+drow,col+dcol)\n",
    "        \n",
    "\n",
    "    def __repr__(self):\n",
    "        max_row = max(key[0] \n",
    "                      for key in self.elf_locations)\n",
    "        max_col = max(key[1] \n",
    "                      for key in self.elf_locations)\n",
    "        min_row = min(key[0] \n",
    "                      for key in self.elf_locations)\n",
    "        min_col = min(key[1] \n",
    "                      for key in self.elf_locations)\n",
    "\n",
    "        strings = []\n",
    "        for row in range(min_row, max_row+1):\n",
    "            strings.append(''.join('#' \n",
    "                                  if (row,col) in self.elf_locations \n",
    "                                  else '.'\n",
    "                                  for col in range(min_col, max_col+1)))\n",
    "        return '\\n'.join(strings)\n",
    "\n",
    "    def draw(self):\n",
    "        print(self)\n",
    "\n",
    "\n",
    "    def count_empty_tiles(self):\n",
    "        max_row = max(key[0] \n",
    "                      for key in self.elf_locations)\n",
    "        max_col = max(key[1] \n",
    "                      for key in self.elf_locations)\n",
    "        min_row = min(key[0] \n",
    "                      for key in self.elf_locations)\n",
    "        min_col = min(key[1] \n",
    "                      for key in self.elf_locations)\n",
    "        # return sum((row,col) not in locations \n",
    "        #            for row in range(min_row, max_row+1) \n",
    "        #            for col in range(min_col, max_col+1))\n",
    "        return (max_row-min_row+1) * (max_col-min_col+1) - len(self.elf_locations)\n",
    "            \n",
    "            \n",
    "    def process_round(self):\n",
    "        # first half of the round - make proposals\n",
    "        self.rule_start_idx = (self.rule_start_idx + 1) % self.num_rules\n",
    "        num_need_to_move = 0\n",
    "        self.elf_proposals.clear()\n",
    "        for row,col in self.elf_locations:\n",
    "            if any(neighbor in self.elf_locations for neighbor in self.neighborhood(row,col)):\n",
    "                num_need_to_move += 1\n",
    "                # all neighbors are not empty - have to propose a move\n",
    "                for rule_id in crange(self.rule_start_idx, \n",
    "                                      num_steps=self.num_rules, \n",
    "                                      modulo=self.num_rules):\n",
    "                    nbr_func = self.rules[rule_id]\n",
    "                    if all(nbr not in self.elf_locations \n",
    "                           for nbr in nbr_func(row,col)):\n",
    "                        drow, dcol = self.directions[rule_id]\n",
    "                        # add this elf's id to the proposal for that (new_row, new_col) as destination\n",
    "                        self.elf_proposals[(row+drow, col+dcol)].append((self.elf_locations[(row,col)],row,col))\n",
    "                        break # out of rule_id for loop\n",
    "                else: # if none of the conditions were met, stay put\n",
    "                    self.elf_proposals[(row,col)].append((self.elf_locations[(row,col)],row,col))\n",
    "            else:\n",
    "                # all neighbors are empty - stay put\n",
    "                self.elf_proposals[(row,col)].append((self.elf_locations[(row,col)],row,col))\n",
    "        \n",
    "        if num_need_to_move == 0:\n",
    "            print(f\"No elves move in round {self.num_rounds_completed + 1}! Process ends\")\n",
    "            return False\n",
    "        else:\n",
    "            # second half of the round - move to the proposed locations\n",
    "            for row,col in self.elf_proposals:\n",
    "                if len(self.elf_proposals[(row,col)]) == 1: # only one contender for this position - move there\n",
    "                    self.new_elf_locations[(row,col)] = self.elf_proposals[(row,col)][0][0]\n",
    "                else:\n",
    "                    for idx,r,c in self.elf_proposals[(row,col)]:\n",
    "                        self.new_elf_locations[(r,c)] = idx\n",
    "\n",
    "            assert self.num_elves == len(self.new_elf_locations)\n",
    "            # swap dictionaries and clear the 2nd one\n",
    "            self.elf_locations, self.new_elf_locations = self.new_elf_locations, self.elf_locations\n",
    "            self.new_elf_locations.clear()\n",
    "\n",
    "        self.num_rounds_completed += 1\n",
    "        return True\n",
    "\n",
    "        "
   ]
  },
  {
   "cell_type": "markdown",
   "id": "7fb8ae44",
   "metadata": {},
   "source": [
    "## Part 1\n",
    "\n"
   ]
  },
  {
   "cell_type": "code",
   "execution_count": 5,
   "id": "2c0d2837",
   "metadata": {},
   "outputs": [
    {
     "name": "stdout",
     "output_type": "stream",
     "text": [
      "110\n"
     ]
    }
   ],
   "source": [
    "ground = Ground(get_input_data(test=1))\n",
    "for round_num in range(10):\n",
    "    ground.process_round()\n",
    "print(ground.count_empty_tiles())"
   ]
  },
  {
   "cell_type": "code",
   "execution_count": 6,
   "id": "9034cf63",
   "metadata": {},
   "outputs": [
    {
     "name": "stdout",
     "output_type": "stream",
     "text": [
      "3871\n"
     ]
    }
   ],
   "source": [
    "ground = Ground(get_input_data(test=0))\n",
    "for round_num in range(10):\n",
    "    ground.process_round()\n",
    "print(ground.count_empty_tiles())"
   ]
  },
  {
   "cell_type": "code",
   "execution_count": 7,
   "id": "a60b0d6f",
   "metadata": {},
   "outputs": [
    {
     "data": {
      "text/plain": [
       "'3871'"
      ]
     },
     "execution_count": 7,
     "metadata": {},
     "output_type": "execute_result"
    }
   ],
   "source": [
    "puzzle.answer_a = 3871\n",
    "puzzle.answer_a"
   ]
  },
  {
   "cell_type": "markdown",
   "id": "f3ef71ed",
   "metadata": {},
   "source": [
    "## Part 2\n",
    "\n"
   ]
  },
  {
   "cell_type": "code",
   "execution_count": 8,
   "id": "f37f71cf",
   "metadata": {},
   "outputs": [
    {
     "name": "stdout",
     "output_type": "stream",
     "text": [
      "No elves move in round 20! Process ends\n"
     ]
    }
   ],
   "source": [
    "ground = Ground(get_input_data(test=1))\n",
    "while ground.process_round():\n",
    "    pass\n"
   ]
  },
  {
   "cell_type": "code",
   "execution_count": 9,
   "id": "9878ad1f",
   "metadata": {},
   "outputs": [
    {
     "name": "stdout",
     "output_type": "stream",
     "text": [
      "No elves move in round 925! Process ends\n"
     ]
    }
   ],
   "source": [
    "ground = Ground(get_input_data(test=0))\n",
    "while ground.process_round():\n",
    "    pass\n"
   ]
  },
  {
   "cell_type": "code",
   "execution_count": 10,
   "id": "4c6b7c13",
   "metadata": {},
   "outputs": [
    {
     "data": {
      "text/plain": [
       "'925'"
      ]
     },
     "execution_count": 10,
     "metadata": {},
     "output_type": "execute_result"
    }
   ],
   "source": [
    "puzzle.answer_b = 925\n",
    "puzzle.answer_b"
   ]
  },
  {
   "cell_type": "code",
   "execution_count": null,
   "id": "a97a47f0",
   "metadata": {},
   "outputs": [],
   "source": []
  }
 ],
 "metadata": {
  "kernelspec": {
   "display_name": "adventofcode",
   "language": "python",
   "name": "adventofcode"
  },
  "language_info": {
   "codemirror_mode": {
    "name": "ipython",
    "version": 3
   },
   "file_extension": ".py",
   "mimetype": "text/x-python",
   "name": "python",
   "nbconvert_exporter": "python",
   "pygments_lexer": "ipython3",
   "version": "3.8.11"
  }
 },
 "nbformat": 4,
 "nbformat_minor": 5
}
