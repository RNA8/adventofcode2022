{
 "cells": [
  {
   "cell_type": "code",
   "execution_count": 16,
   "id": "c1a9c05f",
   "metadata": {},
   "outputs": [],
   "source": [
    "import aocd\n",
    "from aocd.models import Puzzle\n",
    "from aocd import submit\n",
    "from collections import defaultdict\n",
    "import itertools"
   ]
  },
  {
   "cell_type": "code",
   "execution_count": 2,
   "id": "52d855ee",
   "metadata": {},
   "outputs": [
    {
     "data": {
      "text/plain": [
       "<Puzzle(2022, 23) at 0x7fa54500ceb0 - Unstable Diffusion>"
      ]
     },
     "execution_count": 2,
     "metadata": {},
     "output_type": "execute_result"
    }
   ],
   "source": [
    "current_day = 23\n",
    "current_year = 2022\n",
    "puzzle = Puzzle(year=current_year, day=current_day)\n",
    "puzzle"
   ]
  },
  {
   "cell_type": "code",
   "execution_count": 3,
   "id": "7881562b",
   "metadata": {},
   "outputs": [],
   "source": [
    "test_input = '''....#..\n",
    "..###.#\n",
    "#...#.#\n",
    ".#...##\n",
    "#.###..\n",
    "##.#.##\n",
    ".#..#..'''\n",
    "\n",
    "# test_input = '''.....\n",
    "# ..##.\n",
    "# ..#..\n",
    "# .....\n",
    "# ..##.\n",
    "# .....'''"
   ]
  },
  {
   "cell_type": "code",
   "execution_count": 4,
   "id": "08b61a9a",
   "metadata": {},
   "outputs": [],
   "source": [
    "def get_input_data(test = 0):\n",
    "    if test:\n",
    "        input_data = test_input\n",
    "    else:\n",
    "        input_data = puzzle.input_data\n",
    "    input_data = input_data.splitlines()\n",
    "    return input_data"
   ]
  },
  {
   "cell_type": "code",
   "execution_count": 5,
   "id": "df4f0395",
   "metadata": {},
   "outputs": [],
   "source": [
    "def neighborhood(row,col):\n",
    "    for drow in [-1,0,1]:\n",
    "        for dcol in [-1,0,1]:\n",
    "            if drow==0 and dcol==0:\n",
    "                continue\n",
    "            else:\n",
    "                yield (row+drow,col+dcol)"
   ]
  },
  {
   "cell_type": "code",
   "execution_count": 6,
   "id": "ba7e2605",
   "metadata": {},
   "outputs": [],
   "source": [
    "def west_neighbors(row,col):\n",
    "    yield from [(row-1,col-1),(row,col-1),(row+1,col-1)]\n",
    "    \n",
    "def east_neighbors(row,col):\n",
    "    yield from [(row-1,col+1),(row,col+1),(row+1,col+1)]\n",
    "\n",
    "def south_neighbors(row,col):\n",
    "    yield from [(row+1,col-1),(row+1,col),(row+1,col+1)]\n",
    "    \n",
    "def north_neighbors(row,col):\n",
    "    yield from [(row-1,col-1),(row-1,col),(row-1,col+1)]"
   ]
  },
  {
   "cell_type": "code",
   "execution_count": 7,
   "id": "5bd0afe3",
   "metadata": {},
   "outputs": [],
   "source": [
    "def crange(start, num_steps, modulo):\n",
    "    '''\n",
    "    circular range - starting at 'start', going for num_steps iterations, and output is modulo w.r.t. 'modulo'\n",
    "    '''\n",
    "    index = start % modulo\n",
    "    for i in range(num_steps):\n",
    "        yield index\n",
    "        index = (index + 1) % modulo"
   ]
  },
  {
   "cell_type": "code",
   "execution_count": 8,
   "id": "8f241c9e",
   "metadata": {},
   "outputs": [],
   "source": [
    "def draw(locations):\n",
    "    max_row = max(key[0] for key in locations)\n",
    "    max_col = max(key[1] for key in locations)\n",
    "    min_row = min(key[0] for key in locations)\n",
    "    min_col = min(key[1] for key in locations)\n",
    "    for row in range(min_row, max_row+1):\n",
    "        print(''.join('#' if (row,col) in locations else '.'\n",
    "                      for col in range(min_col, max_col+1)))\n",
    "            "
   ]
  },
  {
   "cell_type": "code",
   "execution_count": 9,
   "id": "a5778937",
   "metadata": {},
   "outputs": [],
   "source": [
    "def count_empty_tiles(locations):\n",
    "    max_row = max(key[0] for key in locations)\n",
    "    max_col = max(key[1] for key in locations)\n",
    "    min_row = min(key[0] for key in locations)\n",
    "    min_col = min(key[1] for key in locations)\n",
    "    return sum((row,col) not in locations \n",
    "               for row in range(min_row, max_row+1) \n",
    "               for col in range(min_col, max_col+1))\n",
    "            "
   ]
  },
  {
   "cell_type": "code",
   "execution_count": 10,
   "id": "33cef3ad",
   "metadata": {},
   "outputs": [],
   "source": [
    "def count_empty_tiles_fast(locations):\n",
    "    max_row = max(key[0] for key in locations)\n",
    "    max_col = max(key[1] for key in locations)\n",
    "    min_row = min(key[0] for key in locations)\n",
    "    min_col = min(key[1] for key in locations)\n",
    "    return (max_row-min_row+1) * (max_col-min_col+1) - len(locations)\n",
    "            "
   ]
  },
  {
   "cell_type": "code",
   "execution_count": 21,
   "id": "5fdf4da5",
   "metadata": {},
   "outputs": [
    {
     "name": "stdout",
     "output_type": "stream",
     "text": [
      "Start: # empty tiles = 2512\n",
      "Answer Part 1: Round 10, # empty tiles = 3871\n",
      "Round 100, # empty tiles = 6591\n",
      "Round 200, # empty tiles = 8601\n",
      "Round 300, # empty tiles = 9681\n",
      "Round 400, # empty tiles = 10926\n",
      "Round 500, # empty tiles = 12112\n",
      "Round 600, # empty tiles = 13347\n",
      "Round 700, # empty tiles = 14501\n",
      "Round 800, # empty tiles = 15159\n",
      "Round 900, # empty tiles = 15695\n",
      "Answer Part 2: No elves move in round 925! Process ends\n"
     ]
    }
   ],
   "source": [
    "# data = get_input_data(test=1)\n",
    "data = get_input_data(test=0)\n",
    "\n",
    "elf_id = 0\n",
    "elf_locations, new_elf_locations = {}, {}\n",
    "for row, line in enumerate(data):\n",
    "    for col, char in enumerate(line):\n",
    "        if char == '#':\n",
    "            elf_locations[(row,col)] = elf_id\n",
    "            elf_id += 1\n",
    "num_elves = elf_id\n",
    "\n",
    "rules = [north_neighbors, south_neighbors, west_neighbors, east_neighbors]\n",
    "# directions = ['north','south','west','east']\n",
    "directions = [(-1,0), (+1,0), (0,-1), (0,+1)]\n",
    "num_rules = len(rules)\n",
    "rule_start_idx = -1\n",
    "\n",
    "elf_proposals = defaultdict(list)\n",
    "\n",
    "# draw(elf_locations)\n",
    "print(f\"Start: # empty tiles = {count_empty_tiles_fast(elf_locations)}\")\n",
    "\n",
    "for round_num in itertools.count():\n",
    "    # first half of the round - make proposals\n",
    "    rule_start_idx = (rule_start_idx + 1) % num_rules\n",
    "    num_need_to_move = 0\n",
    "    elf_proposals.clear()\n",
    "    for row,col in elf_locations:\n",
    "        if any(neighbor in elf_locations for neighbor in neighborhood(row,col)):\n",
    "            num_need_to_move += 1\n",
    "            # all neighbors are not empty - have to propose a move\n",
    "            for rule_id in crange(rule_start_idx, \n",
    "                                  num_steps=num_rules, \n",
    "                                  modulo=num_rules):\n",
    "                nbr_func = rules[rule_id]\n",
    "                if all(nbr not in elf_locations for nbr in nbr_func(row,col)):\n",
    "                    drow, dcol = directions[rule_id]\n",
    "                    # add this elf's id to the proposal for that (new_row, new_col) as destination\n",
    "                    elf_proposals[(row+drow, col+dcol)].append((elf_locations[(row,col)],row,col))\n",
    "                    break # out of rule_id for loop\n",
    "            else: # if none of the conditions were met, stay put\n",
    "                elf_proposals[(row,col)].append((elf_locations[(row,col)],row,col))\n",
    "        else:\n",
    "            # all neighbors are empty - stay put\n",
    "            elf_proposals[(row,col)].append((elf_locations[(row,col)],row,col))\n",
    "\n",
    "    if num_need_to_move == 0:\n",
    "        print(f\"Answer Part 2: No elves move in round {round_num+1}! Process ends\")\n",
    "        break\n",
    "        \n",
    "    # second half of the round - move to the proposed locations\n",
    "    for row,col in elf_proposals:\n",
    "        if len(elf_proposals[(row,col)]) == 1: # only one contender for this position - move there\n",
    "            new_elf_locations[(row,col)] = elf_proposals[(row,col)][0][0]\n",
    "        else:\n",
    "            for idx,r,c in elf_proposals[(row,col)]:\n",
    "                new_elf_locations[(r,c)] = idx\n",
    "\n",
    "    # draw(new_elf_locations)\n",
    "    assert num_elves == len(new_elf_locations)\n",
    "    # swap dictionaries and clear the 2nd one\n",
    "    elf_locations, new_elf_locations = new_elf_locations, elf_locations\n",
    "    new_elf_locations.clear()\n",
    "    if (round_num+1) == 10:\n",
    "        print(f\"Answer Part 1: Round {round_num+1}, # empty tiles = {count_empty_tiles_fast(elf_locations)}\")\n",
    "    elif (round_num+1) % 100 == 0:\n",
    "        print(f\"Round {round_num+1}, # empty tiles = {count_empty_tiles_fast(elf_locations)}\")\n",
    "        \n"
   ]
  },
  {
   "cell_type": "markdown",
   "id": "7fb8ae44",
   "metadata": {},
   "source": [
    "## Part 1\n",
    "\n"
   ]
  },
  {
   "cell_type": "code",
   "execution_count": 12,
   "id": "a60b0d6f",
   "metadata": {},
   "outputs": [
    {
     "data": {
      "text/plain": [
       "'3871'"
      ]
     },
     "execution_count": 12,
     "metadata": {},
     "output_type": "execute_result"
    }
   ],
   "source": [
    "puzzle.answer_a = 3871\n",
    "puzzle.answer_a"
   ]
  },
  {
   "cell_type": "markdown",
   "id": "f3ef71ed",
   "metadata": {},
   "source": [
    "## Part 2\n",
    "\n"
   ]
  },
  {
   "cell_type": "code",
   "execution_count": 13,
   "id": "4c6b7c13",
   "metadata": {},
   "outputs": [
    {
     "data": {
      "text/plain": [
       "'925'"
      ]
     },
     "execution_count": 13,
     "metadata": {},
     "output_type": "execute_result"
    }
   ],
   "source": [
    "puzzle.answer_b = 925\n",
    "puzzle.answer_b"
   ]
  },
  {
   "cell_type": "code",
   "execution_count": 14,
   "id": "dd5ba514",
   "metadata": {},
   "outputs": [
    {
     "name": "stdout",
     "output_type": "stream",
     "text": [
      "1.48 ms ± 38.2 µs per loop (mean ± std. dev. of 7 runs, 1000 loops each)\n"
     ]
    }
   ],
   "source": [
    "%timeit count_empty_tiles(elf_locations)"
   ]
  },
  {
   "cell_type": "code",
   "execution_count": 15,
   "id": "711ed696",
   "metadata": {},
   "outputs": [
    {
     "name": "stdout",
     "output_type": "stream",
     "text": [
      "323 µs ± 80.6 ns per loop (mean ± std. dev. of 7 runs, 1000 loops each)\n"
     ]
    }
   ],
   "source": [
    "%timeit count_empty_tiles_fast(elf_locations)"
   ]
  },
  {
   "cell_type": "code",
   "execution_count": null,
   "id": "735dc35c",
   "metadata": {},
   "outputs": [],
   "source": []
  }
 ],
 "metadata": {
  "kernelspec": {
   "display_name": "adventofcode",
   "language": "python",
   "name": "adventofcode"
  },
  "language_info": {
   "codemirror_mode": {
    "name": "ipython",
    "version": 3
   },
   "file_extension": ".py",
   "mimetype": "text/x-python",
   "name": "python",
   "nbconvert_exporter": "python",
   "pygments_lexer": "ipython3",
   "version": "3.8.11"
  }
 },
 "nbformat": 4,
 "nbformat_minor": 5
}
