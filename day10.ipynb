{
 "cells": [
  {
   "cell_type": "code",
   "execution_count": 1,
   "id": "c1a9c05f",
   "metadata": {},
   "outputs": [],
   "source": [
    "import os\n",
    "import numpy as np\n",
    "import itertools\n",
    "\n",
    "import aocd\n",
    "from aocd.models import Puzzle\n",
    "from aocd import submit\n",
    "\n",
    "import re"
   ]
  },
  {
   "cell_type": "code",
   "execution_count": 2,
   "id": "52d855ee",
   "metadata": {},
   "outputs": [
    {
     "data": {
      "text/plain": [
       "<Puzzle(2022, 10) at 0x7f5a23669ac0 - Cathode-Ray Tube>"
      ]
     },
     "execution_count": 2,
     "metadata": {},
     "output_type": "execute_result"
    }
   ],
   "source": [
    "current_day = 10\n",
    "current_year = 2022\n",
    "puzzle = Puzzle(year=current_year, day=current_day)\n",
    "puzzle"
   ]
  },
  {
   "cell_type": "code",
   "execution_count": 3,
   "id": "3058d288",
   "metadata": {},
   "outputs": [
    {
     "data": {
      "text/plain": [
       "['addx 2',\n",
       " 'addx 3',\n",
       " 'addx 1',\n",
       " 'noop',\n",
       " 'addx 4',\n",
       " 'noop',\n",
       " 'noop',\n",
       " 'noop',\n",
       " 'addx 5',\n",
       " 'noop',\n",
       " 'addx 1',\n",
       " 'addx 4',\n",
       " 'addx -2',\n",
       " 'addx 3',\n",
       " 'addx 5',\n",
       " 'addx -1',\n",
       " 'addx 5',\n",
       " 'addx 3',\n",
       " 'addx -2',\n",
       " 'addx 4',\n",
       " 'noop',\n",
       " 'noop',\n",
       " 'noop',\n",
       " 'addx -27',\n",
       " 'addx -5',\n",
       " 'addx 2',\n",
       " 'addx -7',\n",
       " 'addx 3',\n",
       " 'addx 7',\n",
       " 'addx 5',\n",
       " 'addx 2',\n",
       " 'addx 5',\n",
       " 'noop',\n",
       " 'noop',\n",
       " 'addx -2',\n",
       " 'noop',\n",
       " 'addx 3',\n",
       " 'addx 2',\n",
       " 'addx 5',\n",
       " 'addx 2',\n",
       " 'addx 3',\n",
       " 'noop',\n",
       " 'addx 2',\n",
       " 'addx -29',\n",
       " 'addx 30',\n",
       " 'addx -26',\n",
       " 'addx -10',\n",
       " 'noop',\n",
       " 'addx 5',\n",
       " 'noop',\n",
       " 'addx 18',\n",
       " 'addx -13',\n",
       " 'noop',\n",
       " 'noop',\n",
       " 'addx 5',\n",
       " 'noop',\n",
       " 'noop',\n",
       " 'addx 5',\n",
       " 'noop',\n",
       " 'noop',\n",
       " 'noop',\n",
       " 'addx 1',\n",
       " 'addx 2',\n",
       " 'addx 7',\n",
       " 'noop',\n",
       " 'noop',\n",
       " 'addx 3',\n",
       " 'noop',\n",
       " 'addx 2',\n",
       " 'addx 3',\n",
       " 'noop',\n",
       " 'addx -37',\n",
       " 'noop',\n",
       " 'addx 16',\n",
       " 'addx -12',\n",
       " 'addx 29',\n",
       " 'addx -16',\n",
       " 'addx -10',\n",
       " 'addx 5',\n",
       " 'addx 2',\n",
       " 'addx -11',\n",
       " 'addx 11',\n",
       " 'addx 3',\n",
       " 'addx 5',\n",
       " 'addx 2',\n",
       " 'addx 2',\n",
       " 'addx -1',\n",
       " 'addx 2',\n",
       " 'addx 5',\n",
       " 'addx 2',\n",
       " 'noop',\n",
       " 'noop',\n",
       " 'noop',\n",
       " 'addx -37',\n",
       " 'noop',\n",
       " 'addx 17',\n",
       " 'addx -10',\n",
       " 'addx -2',\n",
       " 'noop',\n",
       " 'addx 7',\n",
       " 'addx 3',\n",
       " 'noop',\n",
       " 'addx 2',\n",
       " 'addx -10',\n",
       " 'addx 22',\n",
       " 'addx -9',\n",
       " 'addx 5',\n",
       " 'addx 2',\n",
       " 'addx -5',\n",
       " 'addx 6',\n",
       " 'addx 2',\n",
       " 'addx 5',\n",
       " 'addx 2',\n",
       " 'addx -28',\n",
       " 'addx -7',\n",
       " 'noop',\n",
       " 'noop',\n",
       " 'addx 1',\n",
       " 'addx 4',\n",
       " 'addx 17',\n",
       " 'addx -12',\n",
       " 'noop',\n",
       " 'noop',\n",
       " 'noop',\n",
       " 'noop',\n",
       " 'addx 5',\n",
       " 'addx 6',\n",
       " 'noop',\n",
       " 'addx -1',\n",
       " 'addx -17',\n",
       " 'addx 18',\n",
       " 'noop',\n",
       " 'addx 5',\n",
       " 'noop',\n",
       " 'noop',\n",
       " 'noop',\n",
       " 'addx 5',\n",
       " 'addx 4',\n",
       " 'addx -2',\n",
       " 'noop',\n",
       " 'noop',\n",
       " 'noop',\n",
       " 'noop',\n",
       " 'noop']"
      ]
     },
     "execution_count": 3,
     "metadata": {},
     "output_type": "execute_result"
    }
   ],
   "source": [
    "puzzle.input_data.splitlines()"
   ]
  },
  {
   "cell_type": "markdown",
   "id": "7fb8ae44",
   "metadata": {},
   "source": [
    "## Part 1\n",
    "\n"
   ]
  },
  {
   "cell_type": "code",
   "execution_count": 43,
   "id": "ecb07aa6",
   "metadata": {},
   "outputs": [],
   "source": [
    "test_data = '''addx 15\n",
    "addx -11\n",
    "addx 6\n",
    "addx -3\n",
    "addx 5\n",
    "addx -1\n",
    "addx -8\n",
    "addx 13\n",
    "addx 4\n",
    "noop\n",
    "addx -1\n",
    "addx 5\n",
    "addx -1\n",
    "addx 5\n",
    "addx -1\n",
    "addx 5\n",
    "addx -1\n",
    "addx 5\n",
    "addx -1\n",
    "addx -35\n",
    "addx 1\n",
    "addx 24\n",
    "addx -19\n",
    "addx 1\n",
    "addx 16\n",
    "addx -11\n",
    "noop\n",
    "noop\n",
    "addx 21\n",
    "addx -15\n",
    "noop\n",
    "noop\n",
    "addx -3\n",
    "addx 9\n",
    "addx 1\n",
    "addx -3\n",
    "addx 8\n",
    "addx 1\n",
    "addx 5\n",
    "noop\n",
    "noop\n",
    "noop\n",
    "noop\n",
    "noop\n",
    "addx -36\n",
    "noop\n",
    "addx 1\n",
    "addx 7\n",
    "noop\n",
    "noop\n",
    "noop\n",
    "addx 2\n",
    "addx 6\n",
    "noop\n",
    "noop\n",
    "noop\n",
    "noop\n",
    "noop\n",
    "addx 1\n",
    "noop\n",
    "noop\n",
    "addx 7\n",
    "addx 1\n",
    "noop\n",
    "addx -13\n",
    "addx 13\n",
    "addx 7\n",
    "noop\n",
    "addx 1\n",
    "addx -33\n",
    "noop\n",
    "noop\n",
    "noop\n",
    "addx 2\n",
    "noop\n",
    "noop\n",
    "noop\n",
    "addx 8\n",
    "noop\n",
    "addx -1\n",
    "addx 2\n",
    "addx 1\n",
    "noop\n",
    "addx 17\n",
    "addx -9\n",
    "addx 1\n",
    "addx 1\n",
    "addx -3\n",
    "addx 11\n",
    "noop\n",
    "noop\n",
    "addx 1\n",
    "noop\n",
    "addx 1\n",
    "noop\n",
    "noop\n",
    "addx -13\n",
    "addx -19\n",
    "addx 1\n",
    "addx 3\n",
    "addx 26\n",
    "addx -30\n",
    "addx 12\n",
    "addx -1\n",
    "addx 3\n",
    "addx 1\n",
    "noop\n",
    "noop\n",
    "noop\n",
    "addx -9\n",
    "addx 18\n",
    "addx 1\n",
    "addx 2\n",
    "noop\n",
    "noop\n",
    "addx 9\n",
    "noop\n",
    "noop\n",
    "noop\n",
    "addx -1\n",
    "addx 2\n",
    "addx -37\n",
    "addx 1\n",
    "addx 3\n",
    "noop\n",
    "addx 15\n",
    "addx -21\n",
    "addx 22\n",
    "addx -6\n",
    "addx 1\n",
    "noop\n",
    "addx 2\n",
    "addx 1\n",
    "noop\n",
    "addx -10\n",
    "noop\n",
    "noop\n",
    "addx 20\n",
    "addx 1\n",
    "addx 2\n",
    "addx 2\n",
    "addx -6\n",
    "addx -11\n",
    "noop\n",
    "noop\n",
    "noop'''"
   ]
  },
  {
   "cell_type": "code",
   "execution_count": 49,
   "id": "15189eca",
   "metadata": {},
   "outputs": [
    {
     "name": "stdout",
     "output_type": "stream",
     "text": [
      "15680\n"
     ]
    }
   ],
   "source": [
    "x = 1\n",
    "t = 0\n",
    "x_values = {}\n",
    "result = 0\n",
    "next_step = 20\n",
    "# for line in test_data.splitlines():\n",
    "for line in puzzle.input_data.splitlines():\n",
    "    if line.startswith('noop'):\n",
    "        if t + 1 >= next_step:\n",
    "            result += x*next_step\n",
    "            next_step += 40\n",
    "        t += 1\n",
    "        x_values[t-1] = x\n",
    "    else: # line starts with addx and takes 2 cycles\n",
    "        if t + 2 >= next_step:\n",
    "            result += x*next_step\n",
    "            next_step += 40\n",
    "        t += 2\n",
    "        x_values[t-2] = x\n",
    "        x_values[t-1] = x\n",
    "        x += int(line.replace('addx ',''))\n",
    "print(result)"
   ]
  },
  {
   "cell_type": "code",
   "execution_count": 8,
   "id": "a60b0d6f",
   "metadata": {},
   "outputs": [
    {
     "name": "stdout",
     "output_type": "stream",
     "text": [
      "That's the right answer!  You are one gold star closer to collecting enough star fruit. You got rank 505 on this star's leaderboard. [Continue to Part Two]\n"
     ]
    },
    {
     "data": {
      "text/plain": [
       "'15680'"
      ]
     },
     "execution_count": 8,
     "metadata": {},
     "output_type": "execute_result"
    }
   ],
   "source": [
    "puzzle.answer_a = result\n",
    "puzzle.answer_a"
   ]
  },
  {
   "cell_type": "markdown",
   "id": "f3ef71ed",
   "metadata": {},
   "source": [
    "## Part 2\n",
    "\n"
   ]
  },
  {
   "cell_type": "code",
   "execution_count": 50,
   "id": "5e43a634",
   "metadata": {},
   "outputs": [],
   "source": [
    "width = 40\n",
    "height = 6\n",
    "result = [['0']*width for row in range(height)]\n",
    "for t in range(width*height):\n",
    "    row, col = t // width, t % width\n",
    "    condition = abs(x_values[t] - col) <= 1\n",
    "    result[row][col] = '#' if condition else '.'"
   ]
  },
  {
   "cell_type": "code",
   "execution_count": 51,
   "id": "14298e24",
   "metadata": {},
   "outputs": [
    {
     "name": "stdout",
     "output_type": "stream",
     "text": [
      "####.####.###..####.#..#..##..#..#.###..\n",
      "...#.#....#..#.#....#..#.#..#.#..#.#..#.\n",
      "..#..###..###..###..####.#....#..#.#..#.\n",
      ".#...#....#..#.#....#..#.#.##.#..#.###..\n",
      "#....#....#..#.#....#..#.#..#.#..#.#....\n",
      "####.#....###..#....#..#..###..##..#....\n"
     ]
    }
   ],
   "source": [
    "for row in result:\n",
    "    print(''.join(row))"
   ]
  },
  {
   "cell_type": "code",
   "execution_count": 52,
   "id": "4c6b7c13",
   "metadata": {},
   "outputs": [
    {
     "name": "stdout",
     "output_type": "stream",
     "text": [
      "That's the right answer!  You are one gold star closer to collecting enough star fruit.You have completed Day 10! You can [Shareon\n",
      "  Twitter\n",
      "Mastodon] this victory or [Return to Your Advent Calendar].\n"
     ]
    },
    {
     "data": {
      "text/plain": [
       "'ZFBFHGUP'"
      ]
     },
     "execution_count": 52,
     "metadata": {},
     "output_type": "execute_result"
    }
   ],
   "source": [
    "puzzle.answer_b = 'ZFBFHGUP'\n",
    "puzzle.answer_b"
   ]
  }
 ],
 "metadata": {
  "kernelspec": {
   "display_name": "adventofcode",
   "language": "python",
   "name": "adventofcode"
  },
  "language_info": {
   "codemirror_mode": {
    "name": "ipython",
    "version": 3
   },
   "file_extension": ".py",
   "mimetype": "text/x-python",
   "name": "python",
   "nbconvert_exporter": "python",
   "pygments_lexer": "ipython3",
   "version": "3.8.11"
  }
 },
 "nbformat": 4,
 "nbformat_minor": 5
}
