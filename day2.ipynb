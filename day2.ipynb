{
 "cells": [
  {
   "cell_type": "code",
   "execution_count": 1,
   "id": "c1a9c05f",
   "metadata": {},
   "outputs": [],
   "source": [
    "import os\n",
    "import numpy as np\n",
    "import itertools\n",
    "\n",
    "import aocd\n",
    "from aocd.models import Puzzle\n",
    "from aocd import submit"
   ]
  },
  {
   "cell_type": "code",
   "execution_count": 2,
   "id": "52d855ee",
   "metadata": {},
   "outputs": [
    {
     "data": {
      "text/plain": [
       "<Puzzle(2022, 2) at 0x7f1a4d5d8f10 - Rock Paper Scissors>"
      ]
     },
     "execution_count": 2,
     "metadata": {},
     "output_type": "execute_result"
    }
   ],
   "source": [
    "current_day = 2\n",
    "current_year = 2022\n",
    "puzzle = Puzzle(year=current_year, day=current_day)\n",
    "puzzle"
   ]
  },
  {
   "cell_type": "markdown",
   "id": "7fb8ae44",
   "metadata": {},
   "source": [
    "## Part 1\n",
    "\n"
   ]
  },
  {
   "cell_type": "code",
   "execution_count": 3,
   "id": "923f7f7e",
   "metadata": {},
   "outputs": [
    {
     "data": {
      "text/plain": [
       "2500"
      ]
     },
     "execution_count": 3,
     "metadata": {},
     "output_type": "execute_result"
    }
   ],
   "source": [
    "len(puzzle.input_data.splitlines())"
   ]
  },
  {
   "cell_type": "code",
   "execution_count": 4,
   "id": "699c6b7d",
   "metadata": {},
   "outputs": [
    {
     "data": {
      "text/plain": [
       "{('rock', 'rock'): 4,\n",
       " ('rock', 'paper'): 8,\n",
       " ('rock', 'scissors'): 3,\n",
       " ('paper', 'rock'): 1,\n",
       " ('paper', 'paper'): 5,\n",
       " ('paper', 'scissors'): 9,\n",
       " ('scissors', 'rock'): 7,\n",
       " ('scissors', 'paper'): 2,\n",
       " ('scissors', 'scissors'): 6}"
      ]
     },
     "execution_count": 4,
     "metadata": {},
     "output_type": "execute_result"
    }
   ],
   "source": [
    "# dictionary with value = loses_to[key] - i.e., <value> loses to <key>\n",
    "loses_to = {'rock':'scissors',\n",
    "         'paper':'rock',\n",
    "         'scissors':'paper',\n",
    "        }\n",
    "# dictionary with value = wins_over[key] - i.e., <value> wins over <key>\n",
    "wins_over = {'scissors':'rock',\n",
    "         'rock':'paper',\n",
    "         'paper':'scissors',\n",
    "        }\n",
    "move_score = {'rock':1, 'paper':2, 'scissors':3}\n",
    "outcome_score = {'lose':0, 'draw':3, 'win': 6}\n",
    "\n",
    "score_dict = {}\n",
    "for opp_move, your_move in itertools.product(loses_to.keys(), repeat=2):\n",
    "    score_dict[(opp_move,your_move)] = move_score[your_move]\n",
    "    if opp_move == your_move: # it's a draw\n",
    "        score_dict[(opp_move,your_move)] += outcome_score['draw'] # since it's a draw\n",
    "    elif loses_to[opp_move] == your_move: # you lose\n",
    "        score_dict[(opp_move,your_move)] += outcome_score['lose'] # since you lose\n",
    "    elif loses_to[your_move] == opp_move: # you win\n",
    "        score_dict[(opp_move,your_move)] += outcome_score['win'] # since you win\n",
    "\n",
    "\n",
    "score_dict"
   ]
  },
  {
   "cell_type": "code",
   "execution_count": 5,
   "id": "ba29c7bf",
   "metadata": {},
   "outputs": [],
   "source": [
    "def run_game(moves):\n",
    "#     for opp_move, your_move in moves:\n",
    "#         print(opp_move, your_move, score_dict[(opp_move,your_move)])\n",
    "#     scores = [score_dict[(opp_move,your_move)]\n",
    "#                       for opp_move, your_move in moves]\n",
    "#     print(scores)\n",
    "#     total_score = sum(scores)\n",
    "    total_score = sum(score_dict[(opp_move,your_move)]\n",
    "                      for opp_move, your_move in moves)\n",
    "    return total_score\n",
    "        \n",
    "    "
   ]
  },
  {
   "cell_type": "code",
   "execution_count": 6,
   "id": "7d4e6363",
   "metadata": {},
   "outputs": [],
   "source": [
    "test_data = 'A Y\\nB X\\nC Z\\n'\n",
    "moves = test_data\n",
    "moves = puzzle.input_data\n",
    "moves = moves.replace('A','rock').replace('X','rock')\n",
    "moves = moves.replace('B','paper').replace('Y','paper')\n",
    "moves = moves.replace('C','scissors').replace('Z','scissors')\n",
    "moves = [move.split() for move in moves.splitlines()]"
   ]
  },
  {
   "cell_type": "code",
   "execution_count": 7,
   "id": "02d450e7",
   "metadata": {},
   "outputs": [
    {
     "data": {
      "text/plain": [
       "10595"
      ]
     },
     "execution_count": 7,
     "metadata": {},
     "output_type": "execute_result"
    }
   ],
   "source": [
    "result = run_game(moves)\n",
    "result"
   ]
  },
  {
   "cell_type": "code",
   "execution_count": 8,
   "id": "244b2ec7",
   "metadata": {},
   "outputs": [
    {
     "data": {
      "text/plain": [
       "'10595'"
      ]
     },
     "execution_count": 8,
     "metadata": {},
     "output_type": "execute_result"
    }
   ],
   "source": [
    "puzzle.answer_a = result\n",
    "puzzle.answer_a"
   ]
  },
  {
   "cell_type": "markdown",
   "id": "f3ef71ed",
   "metadata": {},
   "source": [
    "## Part 2\n",
    "\n"
   ]
  },
  {
   "cell_type": "code",
   "execution_count": 9,
   "id": "9d7c80be",
   "metadata": {},
   "outputs": [
    {
     "data": {
      "text/plain": [
       "{('rock', 'lose'): 3,\n",
       " ('rock', 'draw'): 4,\n",
       " ('rock', 'win'): 8,\n",
       " ('paper', 'lose'): 1,\n",
       " ('paper', 'draw'): 5,\n",
       " ('paper', 'win'): 9,\n",
       " ('scissors', 'lose'): 2,\n",
       " ('scissors', 'draw'): 6,\n",
       " ('scissors', 'win'): 7}"
      ]
     },
     "execution_count": 9,
     "metadata": {},
     "output_type": "execute_result"
    }
   ],
   "source": [
    "score_dict = {}\n",
    "for opp_move, outcome in itertools.product(['rock','paper','scissors'], ['lose','draw','win']):\n",
    "    score_dict[(opp_move,outcome)] = outcome_score[outcome]\n",
    "    if outcome == 'draw':\n",
    "        score_dict[(opp_move,outcome)] += move_score[opp_move] # since it's a draw\n",
    "    elif outcome == 'lose': # you lose\n",
    "        score_dict[(opp_move,outcome)] += move_score[loses_to[opp_move]] # since you lose\n",
    "    elif outcome == 'win': # you win\n",
    "        score_dict[(opp_move,outcome)] += move_score[wins_over[opp_move]] # since you win\n",
    "\n",
    "\n",
    "score_dict"
   ]
  },
  {
   "cell_type": "code",
   "execution_count": 10,
   "id": "66522217",
   "metadata": {},
   "outputs": [],
   "source": [
    "def run_game(moves):\n",
    "    total_score = sum(score_dict[(opp_move,outcome)]\n",
    "                      for opp_move, outcome in moves)\n",
    "    return total_score\n",
    "    "
   ]
  },
  {
   "cell_type": "code",
   "execution_count": 15,
   "id": "eae89dcc",
   "metadata": {},
   "outputs": [
    {
     "data": {
      "text/plain": [
       "9541"
      ]
     },
     "execution_count": 15,
     "metadata": {},
     "output_type": "execute_result"
    }
   ],
   "source": [
    "test_data = 'A Y\\nB X\\nC Z\\n'\n",
    "moves = test_data\n",
    "moves = puzzle.input_data\n",
    "moves = moves.replace('A','rock').replace('X','lose')\n",
    "moves = moves.replace('B','paper').replace('Y','draw')\n",
    "moves = moves.replace('C','scissors').replace('Z','win')\n",
    "moves = [move.split() for move in moves.splitlines()]\n",
    "\n",
    "result = run_game(moves)\n",
    "result"
   ]
  },
  {
   "cell_type": "code",
   "execution_count": 16,
   "id": "4c6b7c13",
   "metadata": {},
   "outputs": [
    {
     "name": "stdout",
     "output_type": "stream",
     "text": [
      "That's the right answer!  You are one gold star closer to collecting enough star fruit.You have completed Day 2! You can [Shareon\n",
      "  Twitter\n",
      "Mastodon] this victory or [Return to Your Advent Calendar].\n"
     ]
    },
    {
     "data": {
      "text/plain": [
       "'9541'"
      ]
     },
     "execution_count": 16,
     "metadata": {},
     "output_type": "execute_result"
    }
   ],
   "source": [
    "puzzle.answer_b = result\n",
    "puzzle.answer_b"
   ]
  },
  {
   "cell_type": "code",
   "execution_count": null,
   "id": "9b2ca207",
   "metadata": {},
   "outputs": [],
   "source": []
  }
 ],
 "metadata": {
  "kernelspec": {
   "display_name": "adventofcode",
   "language": "python",
   "name": "adventofcode"
  },
  "language_info": {
   "codemirror_mode": {
    "name": "ipython",
    "version": 3
   },
   "file_extension": ".py",
   "mimetype": "text/x-python",
   "name": "python",
   "nbconvert_exporter": "python",
   "pygments_lexer": "ipython3",
   "version": "3.8.11"
  }
 },
 "nbformat": 4,
 "nbformat_minor": 5
}
