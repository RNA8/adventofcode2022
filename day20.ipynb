{
 "cells": [
  {
   "cell_type": "code",
   "execution_count": 67,
   "id": "c1a9c05f",
   "metadata": {},
   "outputs": [],
   "source": [
    "import aocd\n",
    "from aocd.models import Puzzle\n",
    "from aocd import submit\n",
    "import re\n",
    "import numpy as np\n",
    "from tqdm import tqdm\n",
    "import itertools\n",
    "from parse import parse"
   ]
  },
  {
   "cell_type": "code",
   "execution_count": 68,
   "id": "52d855ee",
   "metadata": {},
   "outputs": [
    {
     "data": {
      "text/plain": [
       "<Puzzle(2022, 20) at 0x7fe15b3e2d90 - Grove Positioning System>"
      ]
     },
     "execution_count": 68,
     "metadata": {},
     "output_type": "execute_result"
    }
   ],
   "source": [
    "current_day = 20\n",
    "current_year = 2022\n",
    "puzzle = Puzzle(year=current_year, day=current_day)\n",
    "puzzle"
   ]
  },
  {
   "cell_type": "code",
   "execution_count": 69,
   "id": "7881562b",
   "metadata": {},
   "outputs": [],
   "source": [
    "test_input = '''1\n",
    "2\n",
    "-3\n",
    "3\n",
    "-2\n",
    "0\n",
    "4'''"
   ]
  },
  {
   "cell_type": "code",
   "execution_count": 70,
   "id": "08b61a9a",
   "metadata": {},
   "outputs": [],
   "source": [
    "def get_input_data(test = 0):\n",
    "    if test:\n",
    "        input_data = test_input\n",
    "    else:\n",
    "        input_data = puzzle.input_data\n",
    "    input_data = list(map(int,input_data.splitlines()))\n",
    "    return input_data"
   ]
  },
  {
   "cell_type": "markdown",
   "id": "7fb8ae44",
   "metadata": {},
   "source": [
    "## Part 1\n",
    "\n"
   ]
  },
  {
   "cell_type": "code",
   "execution_count": 71,
   "id": "c024cf5d",
   "metadata": {},
   "outputs": [],
   "source": [
    "def calc_result(arr):\n",
    "    idx0 = arr.index(0)\n",
    "    return sum([arr[(idx0 + 1000) % N], \n",
    "                arr[(idx0 + 2000) % N], \n",
    "                arr[(idx0 + 3000) % N]])"
   ]
  },
  {
   "cell_type": "code",
   "execution_count": 72,
   "id": "20889427",
   "metadata": {},
   "outputs": [
    {
     "name": "stdout",
     "output_type": "stream",
     "text": [
      "4151\n"
     ]
    }
   ],
   "source": [
    "data = get_input_data(test=0)\n",
    "N = len(data)\n",
    "\n",
    "# keep an LUT of indices:values and move the index array of items, rather than the actual values\n",
    "lut = dict(enumerate(data))\n",
    "# data is the index array [0,...,N-1]\n",
    "data = list(range(N))\n",
    "# copy it as a 'moves' array that doesn't get modified while operating on 'data' array\n",
    "moves = data.copy()\n",
    "\n",
    "for i in moves:\n",
    "    # move the element at data.index(i) by lut[i] steps\n",
    "    idx = data.index(i)\n",
    "    # remove this element first\n",
    "    data.remove(i)\n",
    "    # find new position to insert this element\n",
    "    idx = (idx + lut[i]) % (N-1)\n",
    "    # insert it there\n",
    "    data = data[:idx] + [i] + data[idx:]\n",
    "\n",
    "# map back actual values to get output array\n",
    "output_array = [lut[j] for j in data]\n",
    "\n",
    "result = calc_result(output_array)\n",
    "print(result)"
   ]
  },
  {
   "cell_type": "code",
   "execution_count": 60,
   "id": "a60b0d6f",
   "metadata": {},
   "outputs": [
    {
     "name": "stdout",
     "output_type": "stream",
     "text": [
      "That's the right answer!  You are one gold star closer to collecting enough star fruit. You got rank 432 on this star's leaderboard. [Continue to Part Two]\n"
     ]
    },
    {
     "data": {
      "text/plain": [
       "'4151'"
      ]
     },
     "execution_count": 60,
     "metadata": {},
     "output_type": "execute_result"
    }
   ],
   "source": [
    "puzzle.answer_a = result\n",
    "puzzle.answer_a"
   ]
  },
  {
   "cell_type": "markdown",
   "id": "f3ef71ed",
   "metadata": {},
   "source": [
    "## Part 2\n",
    "\n"
   ]
  },
  {
   "cell_type": "code",
   "execution_count": 73,
   "id": "3f96a0d5",
   "metadata": {},
   "outputs": [
    {
     "name": "stdout",
     "output_type": "stream",
     "text": [
      "7848878698663\n"
     ]
    }
   ],
   "source": [
    "decryption_key = 811589153\n",
    "num_iterations = 10\n",
    "\n",
    "data = get_input_data(test=0)\n",
    "N = len(data)\n",
    "\n",
    "# decrypt\n",
    "data = [i*decryption_key for i in data]\n",
    "\n",
    "# keep an LUT of indices:values and move the index array of items, rather than the actual values\n",
    "lut = dict(enumerate(data))\n",
    "# data is the index array [0,...,N-1]\n",
    "data = list(range(N))\n",
    "# copy it as a 'moves' array that doesn't get modified while operating on 'data' array\n",
    "\n",
    "for iteration in range(num_iterations):\n",
    "    for i in moves:\n",
    "        # move the element at data.index(i) by lut[i] steps\n",
    "        idx = data.index(i)\n",
    "        # remove this element first\n",
    "        data.remove(i)\n",
    "        # find new position to insert this element\n",
    "        idx = (idx + lut[i]) % (N-1)\n",
    "        # insert it there\n",
    "        data = data[:idx] + [i] + data[idx:]\n",
    "\n",
    "# map back actual values to get output array\n",
    "output_array = [lut[j] for j in data]\n",
    "\n",
    "result = calc_result(output_array)\n",
    "print(result)"
   ]
  },
  {
   "cell_type": "code",
   "execution_count": 65,
   "id": "4c6b7c13",
   "metadata": {},
   "outputs": [
    {
     "name": "stdout",
     "output_type": "stream",
     "text": [
      "That's the right answer!  You are one gold star closer to collecting enough star fruit. You got rank 279 on this star's leaderboard.You have completed Day 20! You can [Shareon\n",
      "  Twitter\n",
      "Mastodon] this victory or [Return to Your Advent Calendar].\n"
     ]
    },
    {
     "data": {
      "text/plain": [
       "'7848878698663'"
      ]
     },
     "execution_count": 65,
     "metadata": {},
     "output_type": "execute_result"
    }
   ],
   "source": [
    "puzzle.answer_b = result\n",
    "puzzle.answer_b"
   ]
  },
  {
   "cell_type": "code",
   "execution_count": null,
   "id": "b593c1aa",
   "metadata": {},
   "outputs": [],
   "source": []
  }
 ],
 "metadata": {
  "kernelspec": {
   "display_name": "adventofcode",
   "language": "python",
   "name": "adventofcode"
  },
  "language_info": {
   "codemirror_mode": {
    "name": "ipython",
    "version": 3
   },
   "file_extension": ".py",
   "mimetype": "text/x-python",
   "name": "python",
   "nbconvert_exporter": "python",
   "pygments_lexer": "ipython3",
   "version": "3.8.11"
  }
 },
 "nbformat": 4,
 "nbformat_minor": 5
}
