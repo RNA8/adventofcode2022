{
 "cells": [
  {
   "cell_type": "code",
   "execution_count": 1,
   "id": "c1a9c05f",
   "metadata": {},
   "outputs": [],
   "source": [
    "import aocd\n",
    "from aocd.models import Puzzle\n",
    "from aocd import submit\n",
    "import re\n",
    "import numpy as np\n",
    "from tqdm import tqdm\n",
    "import itertools"
   ]
  },
  {
   "cell_type": "code",
   "execution_count": 2,
   "id": "52d855ee",
   "metadata": {},
   "outputs": [
    {
     "data": {
      "text/plain": [
       "<Puzzle(2022, 18) at 0x7f2328b5a310 - Boiling Boulders>"
      ]
     },
     "execution_count": 2,
     "metadata": {},
     "output_type": "execute_result"
    }
   ],
   "source": [
    "current_day = 18\n",
    "current_year = 2022\n",
    "puzzle = Puzzle(year=current_year, day=current_day)\n",
    "puzzle"
   ]
  },
  {
   "cell_type": "code",
   "execution_count": 3,
   "id": "7881562b",
   "metadata": {},
   "outputs": [],
   "source": [
    "test_input = '''2,2,2\n",
    "1,2,2\n",
    "3,2,2\n",
    "2,1,2\n",
    "2,3,2\n",
    "2,2,1\n",
    "2,2,3\n",
    "2,2,4\n",
    "2,2,6\n",
    "1,2,5\n",
    "3,2,5\n",
    "2,1,5\n",
    "2,3,5'''"
   ]
  },
  {
   "cell_type": "code",
   "execution_count": 4,
   "id": "08b61a9a",
   "metadata": {},
   "outputs": [],
   "source": [
    "def get_input_data(test = 0):\n",
    "    if test:\n",
    "        input_data = test_input\n",
    "    else:\n",
    "        input_data = puzzle.input_data\n",
    "        \n",
    "    data = set([tuple(list(map(int,line.split(',')))) \n",
    "                for line in input_data.splitlines()])\n",
    "    return data"
   ]
  },
  {
   "cell_type": "markdown",
   "id": "7fb8ae44",
   "metadata": {},
   "source": [
    "## Part 1\n",
    "\n"
   ]
  },
  {
   "cell_type": "code",
   "execution_count": 5,
   "id": "861b5eb0",
   "metadata": {},
   "outputs": [
    {
     "data": {
      "text/plain": [
       "(2832, set)"
      ]
     },
     "execution_count": 5,
     "metadata": {},
     "output_type": "execute_result"
    }
   ],
   "source": [
    "data = get_input_data(test=0)\n",
    "len(data), type(data)"
   ]
  },
  {
   "cell_type": "code",
   "execution_count": 6,
   "id": "e5e2f1e8",
   "metadata": {},
   "outputs": [
    {
     "name": "stdout",
     "output_type": "stream",
     "text": [
      "4302\n"
     ]
    }
   ],
   "source": [
    "num_exposed_faces = 0\n",
    "for x,y,z in data:\n",
    "    num_exposed_faces += sum([(x-1, y, z) not in data, \n",
    "                              (x+1, y, z) not in data, \n",
    "                              (x, y-1, z) not in data, \n",
    "                              (x, y+1, z) not in data, \n",
    "                              (x, y, z-1) not in data, \n",
    "                              (x, y, z+1) not in data])\n",
    "    # print((x,y,z),num_exposed_faces)\n",
    "print(num_exposed_faces)"
   ]
  },
  {
   "cell_type": "code",
   "execution_count": 7,
   "id": "a60b0d6f",
   "metadata": {},
   "outputs": [
    {
     "data": {
      "text/plain": [
       "'4302'"
      ]
     },
     "execution_count": 7,
     "metadata": {},
     "output_type": "execute_result"
    }
   ],
   "source": [
    "puzzle.answer_a = num_exposed_faces\n",
    "puzzle.answer_a"
   ]
  },
  {
   "cell_type": "markdown",
   "id": "f3ef71ed",
   "metadata": {},
   "source": [
    "## Part 2\n",
    "\n"
   ]
  },
  {
   "cell_type": "code",
   "execution_count": 8,
   "id": "81e26e4c",
   "metadata": {},
   "outputs": [
    {
     "data": {
      "text/plain": [
       "2492"
      ]
     },
     "execution_count": 8,
     "metadata": {},
     "output_type": "execute_result"
    }
   ],
   "source": [
    "arr = np.array(list(data))\n",
    "x_min, y_min, z_min = arr.min(axis=0)-1\n",
    "x_max, y_max, z_max = arr.max(axis=0)+1\n",
    "all_voxels = set(itertools.product(range(x_min, x_max+1), \n",
    "                                   range(y_min, y_max+1), \n",
    "                                   range(z_min, z_max+1)))\n",
    "empty_voxels = all_voxels - data\n",
    "queue = [(x_min, y_min, z_min)]\n",
    "# remove all exterior empty voxels using flood-fill from the minimum corner of the grid\n",
    "while queue:\n",
    "    x,y,z = queue.pop()\n",
    "    if (x,y,z) in empty_voxels:\n",
    "        empty_voxels.remove((x,y,z))\n",
    "        queue.extend([(x-1, y, z),\n",
    "                      (x+1, y, z),\n",
    "                      (x, y-1, z),\n",
    "                      (x, y+1, z),\n",
    "                      (x, y, z-1),\n",
    "                      (x, y, z+1)])    \n",
    "\n",
    "# empty_voxels now contains only the enclosed (interior) empty voxels\n",
    "# count and decrement those faces that touch the interior empty voxels\n",
    "num_exterior_exposed_faces = num_exposed_faces\n",
    "for x,y,z, in empty_voxels:\n",
    "    num_exterior_exposed_faces -= sum([(x-1, y, z) in data,\n",
    "                                       (x+1, y, z) in data,\n",
    "                                       (x, y-1, z) in data,\n",
    "                                       (x, y+1, z) in data,\n",
    "                                       (x, y, z-1) in data,\n",
    "                                       (x, y, z+1) in data])\n",
    "num_exterior_exposed_faces"
   ]
  },
  {
   "cell_type": "code",
   "execution_count": 9,
   "id": "4c6b7c13",
   "metadata": {},
   "outputs": [
    {
     "data": {
      "text/plain": [
       "'2492'"
      ]
     },
     "execution_count": 9,
     "metadata": {},
     "output_type": "execute_result"
    }
   ],
   "source": [
    "puzzle.answer_b = num_exterior_exposed_faces\n",
    "puzzle.answer_b"
   ]
  }
 ],
 "metadata": {
  "kernelspec": {
   "display_name": "adventofcode",
   "language": "python",
   "name": "adventofcode"
  },
  "language_info": {
   "codemirror_mode": {
    "name": "ipython",
    "version": 3
   },
   "file_extension": ".py",
   "mimetype": "text/x-python",
   "name": "python",
   "nbconvert_exporter": "python",
   "pygments_lexer": "ipython3",
   "version": "3.8.11"
  }
 },
 "nbformat": 4,
 "nbformat_minor": 5
}
