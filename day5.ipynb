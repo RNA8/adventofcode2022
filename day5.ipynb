{
 "cells": [
  {
   "cell_type": "code",
   "execution_count": 55,
   "id": "c1a9c05f",
   "metadata": {},
   "outputs": [],
   "source": [
    "import os\n",
    "import numpy as np\n",
    "import itertools\n",
    "\n",
    "import aocd\n",
    "from aocd.models import Puzzle\n",
    "from aocd import submit\n",
    "\n",
    "import re"
   ]
  },
  {
   "cell_type": "code",
   "execution_count": 56,
   "id": "52d855ee",
   "metadata": {},
   "outputs": [
    {
     "data": {
      "text/plain": [
       "<Puzzle(2022, 5) at 0x7fa0f3635460 - Supply Stacks>"
      ]
     },
     "execution_count": 56,
     "metadata": {},
     "output_type": "execute_result"
    }
   ],
   "source": [
    "current_day = 5\n",
    "current_year = 2022\n",
    "puzzle = Puzzle(year=current_year, day=current_day)\n",
    "puzzle"
   ]
  },
  {
   "cell_type": "code",
   "execution_count": 57,
   "id": "923f7f7e",
   "metadata": {},
   "outputs": [
    {
     "data": {
      "text/plain": [
       "[' 1   2   3   4   5   6   7   8   9 ',\n",
       " '[G] [Z] [C] [H] [C] [R] [H] [P] [D]',\n",
       " '[D] [S] [L] [J] [L] [G] [G] [F] [R]',\n",
       " '[V] [M] [B] [G] [S] [C] [T] [V] [S]',\n",
       " '[Z] [G] [S] [W] [N] [D] [R]     [T]',\n",
       " '[J] [V] [W] [M] [F]     [J]     [J]',\n",
       " '[S] [P] [T] [R] [M]     [D]        ',\n",
       " '[B]     [Q] [V] [D]     [S]        ',\n",
       " '        [F] [Q]         [Q]        ']"
      ]
     },
     "metadata": {},
     "output_type": "display_data"
    },
    {
     "name": "stdout",
     "output_type": "stream",
     "text": [
      "num_stacks = 9\n"
     ]
    },
    {
     "data": {
      "text/plain": [
       "{'1': ['G', 'D', 'V', 'Z', 'J', 'S', 'B'],\n",
       " '2': ['Z', 'S', 'M', 'G', 'V', 'P'],\n",
       " '3': ['C', 'L', 'B', 'S', 'W', 'T', 'Q', 'F'],\n",
       " '4': ['H', 'J', 'G', 'W', 'M', 'R', 'V', 'Q'],\n",
       " '5': ['C', 'L', 'S', 'N', 'F', 'M', 'D'],\n",
       " '6': ['R', 'G', 'C', 'D'],\n",
       " '7': ['H', 'G', 'T', 'R', 'J', 'D', 'S', 'Q'],\n",
       " '8': ['P', 'F', 'V'],\n",
       " '9': ['D', 'R', 'S', 'T', 'J']}"
      ]
     },
     "execution_count": 57,
     "metadata": {},
     "output_type": "execute_result"
    }
   ],
   "source": [
    "stacks_description, procedure = puzzle.input_data.split('\\n\\n')\n",
    "stacks_description = stacks_description.splitlines()[::-1]\n",
    "procedure = procedure.splitlines()\n",
    "display(stacks_description)\n",
    "\n",
    "num_stacks = sum(char != ' ' for char in stacks_description[0])\n",
    "print(f\"{num_stacks = }\")\n",
    "\n",
    "stacks = {str(i):[] for i in range(1,num_stacks+1)}\n",
    "for stack_id in stacks:\n",
    "    idx = stacks_description[0].index(stack_id)\n",
    "    for line in stacks_description[1:]:\n",
    "        if line[idx] != ' ':\n",
    "            stacks[stack_id].append(line[idx])\n",
    "\n",
    "stacks"
   ]
  },
  {
   "cell_type": "markdown",
   "id": "7fb8ae44",
   "metadata": {},
   "source": [
    "## Part 1\n",
    "\n"
   ]
  },
  {
   "cell_type": "code",
   "execution_count": 58,
   "id": "c788fc60",
   "metadata": {},
   "outputs": [
    {
     "data": {
      "text/plain": [
       "{'1': ['J', 'V', 'S', 'D', 'C', 'F', 'Q', 'W'],\n",
       " '2': ['C'],\n",
       " '3': ['Z'],\n",
       " '4': ['V', 'D', 'R', 'V', 'T', 'G', 'T'],\n",
       " '5': ['H'],\n",
       " '6': ['T'],\n",
       " '7': ['J',\n",
       "  'Z',\n",
       "  'S',\n",
       "  'G',\n",
       "  'B',\n",
       "  'M',\n",
       "  'G',\n",
       "  'H',\n",
       "  'J',\n",
       "  'D',\n",
       "  'F',\n",
       "  'S',\n",
       "  'L',\n",
       "  'B',\n",
       "  'D',\n",
       "  'V',\n",
       "  'R',\n",
       "  'P',\n",
       "  'S',\n",
       "  'R',\n",
       "  'J',\n",
       "  'M'],\n",
       " '8': ['W', 'S', 'Q', 'F', 'M', 'D', 'P'],\n",
       " '9': ['L', 'N', 'G', 'G', 'R', 'C', 'Q', 'S']}"
      ]
     },
     "execution_count": 58,
     "metadata": {},
     "output_type": "execute_result"
    }
   ],
   "source": [
    "for line in procedure:\n",
    "    num_to_move, from_stack, to_stack = re.findall(\"\\d+\", line)\n",
    "    num_to_move = int(num_to_move)\n",
    "    assert len(stacks[from_stack]) >= num_to_move\n",
    "    for i in range(num_to_move):\n",
    "        item = stacks[from_stack].pop()\n",
    "        stacks[to_stack].append(item)\n",
    "\n",
    "stacks"
   ]
  },
  {
   "cell_type": "code",
   "execution_count": 59,
   "id": "a60b0d6f",
   "metadata": {},
   "outputs": [
    {
     "data": {
      "text/plain": [
       "'WCZTHTMPS'"
      ]
     },
     "execution_count": 59,
     "metadata": {},
     "output_type": "execute_result"
    }
   ],
   "source": [
    "answer = ''.join(stacks[stack_id][-1] for stack_id in stacks)\n",
    "puzzle.answer_a = answer\n",
    "puzzle.answer_a"
   ]
  },
  {
   "cell_type": "markdown",
   "id": "f3ef71ed",
   "metadata": {},
   "source": [
    "## Part 2\n",
    "\n"
   ]
  },
  {
   "cell_type": "code",
   "execution_count": 60,
   "id": "c814482d",
   "metadata": {},
   "outputs": [
    {
     "data": {
      "text/plain": [
       "[' 1   2   3   4   5   6   7   8   9 ',\n",
       " '[G] [Z] [C] [H] [C] [R] [H] [P] [D]',\n",
       " '[D] [S] [L] [J] [L] [G] [G] [F] [R]',\n",
       " '[V] [M] [B] [G] [S] [C] [T] [V] [S]',\n",
       " '[Z] [G] [S] [W] [N] [D] [R]     [T]',\n",
       " '[J] [V] [W] [M] [F]     [J]     [J]',\n",
       " '[S] [P] [T] [R] [M]     [D]        ',\n",
       " '[B]     [Q] [V] [D]     [S]        ',\n",
       " '        [F] [Q]         [Q]        ']"
      ]
     },
     "metadata": {},
     "output_type": "display_data"
    },
    {
     "name": "stdout",
     "output_type": "stream",
     "text": [
      "num_stacks = 9\n"
     ]
    },
    {
     "data": {
      "text/plain": [
       "{'1': ['G', 'D', 'V', 'Z', 'J', 'S', 'B'],\n",
       " '2': ['Z', 'S', 'M', 'G', 'V', 'P'],\n",
       " '3': ['C', 'L', 'B', 'S', 'W', 'T', 'Q', 'F'],\n",
       " '4': ['H', 'J', 'G', 'W', 'M', 'R', 'V', 'Q'],\n",
       " '5': ['C', 'L', 'S', 'N', 'F', 'M', 'D'],\n",
       " '6': ['R', 'G', 'C', 'D'],\n",
       " '7': ['H', 'G', 'T', 'R', 'J', 'D', 'S', 'Q'],\n",
       " '8': ['P', 'F', 'V'],\n",
       " '9': ['D', 'R', 'S', 'T', 'J']}"
      ]
     },
     "execution_count": 60,
     "metadata": {},
     "output_type": "execute_result"
    }
   ],
   "source": [
    "stacks_description, procedure = puzzle.input_data.split('\\n\\n')\n",
    "stacks_description = stacks_description.splitlines()[::-1]\n",
    "procedure = procedure.splitlines()\n",
    "display(stacks_description)\n",
    "\n",
    "num_stacks = sum(char != ' ' for char in stacks_description[0])\n",
    "print(f\"{num_stacks = }\")\n",
    "\n",
    "stacks = {str(i):[] for i in range(1,num_stacks+1)}\n",
    "for stack_id in stacks:\n",
    "    idx = stacks_description[0].index(stack_id)\n",
    "    for line in stacks_description[1:]:\n",
    "        if line[idx] != ' ':\n",
    "            stacks[stack_id].append(line[idx])\n",
    "\n",
    "stacks"
   ]
  },
  {
   "cell_type": "code",
   "execution_count": 61,
   "id": "2564eaa5",
   "metadata": {},
   "outputs": [
    {
     "data": {
      "text/plain": [
       "{'1': ['D', 'F', 'M', 'L', 'V', 'C', 'C', 'B'],\n",
       " '2': ['L'],\n",
       " '3': ['S'],\n",
       " '4': ['B', 'N', 'V', 'P', 'S', 'R', 'G'],\n",
       " '5': ['J'],\n",
       " '6': ['S'],\n",
       " '7': ['G',\n",
       "  'V',\n",
       "  'R',\n",
       "  'Q',\n",
       "  'R',\n",
       "  'C',\n",
       "  'M',\n",
       "  'G',\n",
       "  'T',\n",
       "  'D',\n",
       "  'T',\n",
       "  'J',\n",
       "  'W',\n",
       "  'Q',\n",
       "  'H',\n",
       "  'H',\n",
       "  'J',\n",
       "  'R',\n",
       "  'J',\n",
       "  'Z',\n",
       "  'D',\n",
       "  'D'],\n",
       " '8': ['F', 'W', 'V', 'Z', 'P', 'G', 'T'],\n",
       " '9': ['D', 'Q', 'M', 'S', 'G', 'F', 'S', 'S']}"
      ]
     },
     "execution_count": 61,
     "metadata": {},
     "output_type": "execute_result"
    }
   ],
   "source": [
    "for line in procedure:\n",
    "    num_to_move, from_stack, to_stack = re.findall(\"\\d+\", line)\n",
    "    num_to_move = int(num_to_move)\n",
    "    assert len(stacks[from_stack]) >= num_to_move\n",
    "    stacks[from_stack], temp = stacks[from_stack][:-num_to_move], stacks[from_stack][-num_to_move:]\n",
    "    stacks[to_stack].extend(temp)\n",
    "\n",
    "stacks"
   ]
  },
  {
   "cell_type": "code",
   "execution_count": 62,
   "id": "4c6b7c13",
   "metadata": {},
   "outputs": [
    {
     "name": "stdout",
     "output_type": "stream",
     "text": [
      "That's the right answer!  You are one gold star closer to collecting enough star fruit.You have completed Day 5! You can [Shareon\n",
      "  Twitter\n",
      "Mastodon] this victory or [Return to Your Advent Calendar].\n"
     ]
    },
    {
     "data": {
      "text/plain": [
       "'BLSGJSDTS'"
      ]
     },
     "execution_count": 62,
     "metadata": {},
     "output_type": "execute_result"
    }
   ],
   "source": [
    "answer = ''.join(stacks[stack_id][-1] for stack_id in stacks)\n",
    "puzzle.answer_b = answer\n",
    "puzzle.answer_b"
   ]
  },
  {
   "cell_type": "code",
   "execution_count": null,
   "id": "9b2ca207",
   "metadata": {},
   "outputs": [],
   "source": []
  }
 ],
 "metadata": {
  "kernelspec": {
   "display_name": "adventofcode",
   "language": "python",
   "name": "adventofcode"
  },
  "language_info": {
   "codemirror_mode": {
    "name": "ipython",
    "version": 3
   },
   "file_extension": ".py",
   "mimetype": "text/x-python",
   "name": "python",
   "nbconvert_exporter": "python",
   "pygments_lexer": "ipython3",
   "version": "3.8.11"
  }
 },
 "nbformat": 4,
 "nbformat_minor": 5
}
