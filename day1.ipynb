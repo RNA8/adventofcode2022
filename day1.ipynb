{
 "cells": [
  {
   "cell_type": "code",
   "execution_count": 1,
   "id": "6ee099f7",
   "metadata": {},
   "outputs": [],
   "source": [
    "import os\n",
    "import numpy as np\n",
    "import aocd\n",
    "from aocd.models import Puzzle\n",
    "from aocd import submit"
   ]
  },
  {
   "cell_type": "code",
   "execution_count": 2,
   "id": "5214af9e",
   "metadata": {},
   "outputs": [
    {
     "data": {
      "text/plain": [
       "<Puzzle(2022, 1) at 0x7f1ee007ec40 - Calorie Counting>"
      ]
     },
     "execution_count": 2,
     "metadata": {},
     "output_type": "execute_result"
    }
   ],
   "source": [
    "current_day = 1\n",
    "current_year = 2022\n",
    "puzzle = Puzzle(year=current_year, day=current_day)\n",
    "puzzle"
   ]
  },
  {
   "cell_type": "code",
   "execution_count": 3,
   "id": "292ad4a2",
   "metadata": {},
   "outputs": [],
   "source": [
    "elf_calories = [sum(map(int,elf.split())) \n",
    "                for elf in puzzle.input_data.split('\\n\\n')]"
   ]
  },
  {
   "cell_type": "markdown",
   "id": "06a4652d",
   "metadata": {},
   "source": [
    "## Part 1\n",
    "\n",
    "find maximum calories carried by an elf"
   ]
  },
  {
   "cell_type": "code",
   "execution_count": 4,
   "id": "16f147df",
   "metadata": {},
   "outputs": [
    {
     "data": {
      "text/plain": [
       "'71502'"
      ]
     },
     "execution_count": 4,
     "metadata": {},
     "output_type": "execute_result"
    }
   ],
   "source": [
    "puzzle.answer_a = max(elf_calories)\n",
    "puzzle.answer_a"
   ]
  },
  {
   "cell_type": "markdown",
   "id": "bd2f66ba",
   "metadata": {},
   "source": [
    "## Part 2\n",
    "\n",
    "find total calories carried by top 3 calorie-carrying elves"
   ]
  },
  {
   "cell_type": "code",
   "execution_count": 5,
   "id": "8f1ec2d9",
   "metadata": {},
   "outputs": [
    {
     "data": {
      "text/plain": [
       "'208191'"
      ]
     },
     "execution_count": 5,
     "metadata": {},
     "output_type": "execute_result"
    }
   ],
   "source": [
    "puzzle.answer_b = sum(sorted(elf_calories)[-3:])\n",
    "puzzle.answer_b"
   ]
  },
  {
   "cell_type": "code",
   "execution_count": null,
   "id": "85ffa44b",
   "metadata": {},
   "outputs": [],
   "source": []
  }
 ],
 "metadata": {
  "kernelspec": {
   "display_name": "adventofcode",
   "language": "python",
   "name": "adventofcode"
  },
  "language_info": {
   "codemirror_mode": {
    "name": "ipython",
    "version": 3
   },
   "file_extension": ".py",
   "mimetype": "text/x-python",
   "name": "python",
   "nbconvert_exporter": "python",
   "pygments_lexer": "ipython3",
   "version": "3.8.11"
  }
 },
 "nbformat": 4,
 "nbformat_minor": 5
}
